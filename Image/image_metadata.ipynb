{
 "cells": [
  {
   "cell_type": "markdown",
   "metadata": {},
   "source": [
    "[![Open In Colab](https://colab.research.google.com/assets/colab-badge.svg)](https://githubtocolab.com/giswqs/gee-tutorials/blob/master/Image/image_metadata.ipynb)"
   ]
  },
  {
   "cell_type": "markdown",
   "metadata": {},
   "source": [
    "**Image information and metadata**\n",
    "\n",
    "To explore image bands and properties in Python, `print()` the image with the `getInfo()` function. This information can also be accessed programmatically. For example, the following demonstrates how to access information about bands, projections and other metadata:"
   ]
  },
  {
   "cell_type": "markdown",
   "metadata": {},
   "source": [
    "## Import libraries"
   ]
  },
  {
   "cell_type": "code",
   "execution_count": 1,
   "metadata": {},
   "outputs": [],
   "source": [
    "import ee\n",
    "import geemap"
   ]
  },
  {
   "cell_type": "markdown",
   "metadata": {},
   "source": [
    "## Create an interactive map "
   ]
  },
  {
   "cell_type": "code",
   "execution_count": 2,
   "metadata": {},
   "outputs": [
    {
     "data": {
      "application/vnd.jupyter.widget-view+json": {
       "model_id": "a79cf21e76e4486cb85bb3b9e6e577ab",
       "version_major": 2,
       "version_minor": 0
      },
      "text/plain": [
       "Map(center=[20, 0], controls=(WidgetControl(options=['position', 'transparent_bg'], widget=HBox(children=(Togg…"
      ]
     },
     "metadata": {},
     "output_type": "display_data"
    }
   ],
   "source": [
    "Map = geemap.Map()\n",
    "Map"
   ]
  },
  {
   "cell_type": "markdown",
   "metadata": {},
   "source": [
    "## Display data on the map"
   ]
  },
  {
   "cell_type": "code",
   "execution_count": 3,
   "metadata": {},
   "outputs": [],
   "source": [
    "# Load an image.\n",
    "image = ee.Image('LANDSAT/LC08/C01/T1_SR/LC08_044034_20140318')\n",
    "vis_params = {'bands': ['B5', 'B4', 'B3'], 'min': 0.0, 'max': 3000, 'opacity': 1.0, 'gamma': 1.2}\n",
    "\n",
    "# Center the map and display the image.\n",
    "Map.centerObject(image, zoom=8)\n",
    "Map.addLayer(image, vis_params, 'Landsat')"
   ]
  },
  {
   "cell_type": "markdown",
   "metadata": {},
   "source": [
    "## Get image metadata"
   ]
  },
  {
   "cell_type": "markdown",
   "metadata": {},
   "source": [
    "Get information about the bands as a list."
   ]
  },
  {
   "cell_type": "code",
   "execution_count": 4,
   "metadata": {},
   "outputs": [
    {
     "name": "stdout",
     "output_type": "stream",
     "text": [
      "Band names:  ['B1', 'B2', 'B3', 'B4', 'B5', 'B6', 'B7', 'B10', 'B11', 'sr_aerosol', 'pixel_qa', 'radsat_qa']\n"
     ]
    }
   ],
   "source": [
    "bandNames = image.bandNames()\n",
    "print('Band names: ', bandNames.getInfo())"
   ]
  },
  {
   "cell_type": "markdown",
   "metadata": {},
   "source": [
    "Get projection information from band 1. https://epsg.io/32610"
   ]
  },
  {
   "cell_type": "code",
   "execution_count": 5,
   "metadata": {},
   "outputs": [
    {
     "name": "stdout",
     "output_type": "stream",
     "text": [
      "Band 1 projection:  {'type': 'Projection', 'crs': 'EPSG:32610', 'transform': [30, 0, 460785, 0, -30, 4264215]}\n"
     ]
    }
   ],
   "source": [
    "b1proj = image.select('B1').projection()\n",
    "print('Band 1 projection: ', b1proj.getInfo()) "
   ]
  },
  {
   "cell_type": "markdown",
   "metadata": {},
   "source": [
    "Get scale (in meters) information from band 1."
   ]
  },
  {
   "cell_type": "code",
   "execution_count": 6,
   "metadata": {},
   "outputs": [
    {
     "name": "stdout",
     "output_type": "stream",
     "text": [
      "Band 1 scale:  30\n"
     ]
    }
   ],
   "source": [
    "b1scale = image.select('B1').projection().nominalScale()\n",
    "print('Band 1 scale: ', b1scale.getInfo()) "
   ]
  },
  {
   "cell_type": "markdown",
   "metadata": {},
   "source": [
    "Note that different bands can have different projections and scale."
   ]
  },
  {
   "cell_type": "code",
   "execution_count": 7,
   "metadata": {},
   "outputs": [
    {
     "name": "stdout",
     "output_type": "stream",
     "text": [
      "Band 10 scale:  30\n"
     ]
    }
   ],
   "source": [
    "b10scale = image.select('B10').projection().nominalScale()\n",
    "print('Band 10 scale: ', b10scale.getInfo())"
   ]
  },
  {
   "cell_type": "markdown",
   "metadata": {},
   "source": [
    "Get a list of all metadata properties."
   ]
  },
  {
   "cell_type": "code",
   "execution_count": 8,
   "metadata": {},
   "outputs": [
    {
     "name": "stdout",
     "output_type": "stream",
     "text": [
      "Metadata properties:  ['IMAGE_QUALITY_TIRS', 'CLOUD_COVER', 'system:id', 'EARTH_SUN_DISTANCE', 'LANDSAT_ID', 'system:footprint', 'system:version', 'CLOUD_COVER_LAND', 'GEOMETRIC_RMSE_MODEL', 'SR_APP_VERSION', 'SATELLITE', 'SOLAR_AZIMUTH_ANGLE', 'IMAGE_QUALITY_OLI', 'WRS_PATH', 'system:time_start', 'SENSING_TIME', 'ESPA_VERSION', 'SOLAR_ZENITH_ANGLE', 'WRS_ROW', 'GEOMETRIC_RMSE_MODEL_Y', 'LEVEL1_PRODUCTION_DATE', 'GEOMETRIC_RMSE_MODEL_X', 'system:asset_size', 'PIXEL_QA_VERSION', 'system:index', 'system:bands', 'system:band_names']\n"
     ]
    }
   ],
   "source": [
    "properties = image.propertyNames()\n",
    "print('Metadata properties: ', properties.getInfo())"
   ]
  },
  {
   "cell_type": "markdown",
   "metadata": {},
   "source": [
    "Get a specific metadata property."
   ]
  },
  {
   "cell_type": "code",
   "execution_count": 9,
   "metadata": {},
   "outputs": [
    {
     "name": "stdout",
     "output_type": "stream",
     "text": [
      "CLOUD_COVER:  0.06\n"
     ]
    }
   ],
   "source": [
    "cloudiness = image.get('CLOUD_COVER')\n",
    "print('CLOUD_COVER: ', cloudiness.getInfo())"
   ]
  },
  {
   "cell_type": "markdown",
   "metadata": {},
   "source": [
    "Get the timestamp and convert it to a date."
   ]
  },
  {
   "cell_type": "code",
   "execution_count": 10,
   "metadata": {},
   "outputs": [
    {
     "name": "stdout",
     "output_type": "stream",
     "text": [
      "Timestamp:  {'type': 'Date', 'value': 1395168392050}\n"
     ]
    }
   ],
   "source": [
    "date = ee.Date(image.get('system:time_start'))\n",
    "print('Timestamp: ', date.getInfo())"
   ]
  },
  {
   "cell_type": "code",
   "execution_count": 11,
   "metadata": {},
   "outputs": [
    {
     "name": "stdout",
     "output_type": "stream",
     "text": [
      "Timestamp:  2014-03-18\n"
     ]
    }
   ],
   "source": [
    "date2 = date.format('YYYY-MM-dd')\n",
    "print('Timestamp: ', date2.getInfo())"
   ]
  },
  {
   "cell_type": "markdown",
   "metadata": {},
   "source": [
    "## Use geemap to get image metadata"
   ]
  },
  {
   "cell_type": "code",
   "execution_count": 12,
   "metadata": {},
   "outputs": [],
   "source": [
    "image = ee.Image('LANDSAT/LC08/C01/T1_SR/LC08_044034_20140318')\n",
    "image_props = geemap.image_props(image)"
   ]
  },
  {
   "cell_type": "code",
   "execution_count": 13,
   "metadata": {},
   "outputs": [
    {
     "data": {
      "text/plain": [
       "{'CLOUD_COVER': 0.06,\n",
       " 'CLOUD_COVER_LAND': 0.1,\n",
       " 'EARTH_SUN_DISTANCE': 0.995371,\n",
       " 'ESPA_VERSION': '2_23_0_1a',\n",
       " 'GEOMETRIC_RMSE_MODEL': 6.78,\n",
       " 'GEOMETRIC_RMSE_MODEL_X': 4.841,\n",
       " 'GEOMETRIC_RMSE_MODEL_Y': 4.747,\n",
       " 'IMAGE_DATE': '2014-03-18',\n",
       " 'IMAGE_QUALITY_OLI': 9,\n",
       " 'IMAGE_QUALITY_TIRS': 9,\n",
       " 'LANDSAT_ID': 'LC08_L1TP_044034_20140318_20170307_01_T1',\n",
       " 'LEVEL1_PRODUCTION_DATE': 1488849349000,\n",
       " 'NOMINAL_SCALE': 30,\n",
       " 'PIXEL_QA_VERSION': 'generate_pixel_qa_1.6.0',\n",
       " 'SATELLITE': 'LANDSAT_8',\n",
       " 'SENSING_TIME': '2014-03-18T18:46:32.0535800Z',\n",
       " 'SOLAR_AZIMUTH_ANGLE': 146.239578,\n",
       " 'SOLAR_ZENITH_ANGLE': 43.528934,\n",
       " 'SR_APP_VERSION': 'LaSRC_1.3.0',\n",
       " 'WRS_PATH': 44,\n",
       " 'WRS_ROW': 34,\n",
       " 'system:asset_size': '540.072009 MB',\n",
       " 'system:band_names': ['B1',\n",
       "  'B2',\n",
       "  'B3',\n",
       "  'B4',\n",
       "  'B5',\n",
       "  'B6',\n",
       "  'B7',\n",
       "  'B10',\n",
       "  'B11',\n",
       "  'sr_aerosol',\n",
       "  'pixel_qa',\n",
       "  'radsat_qa'],\n",
       " 'system:id': 'LANDSAT/LC08/C01/T1_SR/LC08_044034_20140318',\n",
       " 'system:index': 'LC08_044034_20140318',\n",
       " 'system:time_end': '2014-03-18 18:46:32',\n",
       " 'system:time_start': '2014-03-18 18:46:32',\n",
       " 'system:version': 1522720282729760.0}"
      ]
     },
     "execution_count": 13,
     "metadata": {},
     "output_type": "execute_result"
    }
   ],
   "source": [
    "image_props.getInfo()"
   ]
  },
  {
   "cell_type": "code",
   "execution_count": null,
   "metadata": {},
   "outputs": [],
   "source": []
  }
 ],
 "metadata": {
  "anaconda-cloud": {},
  "hide_input": false,
  "kernelspec": {
   "display_name": "Python 3 (ipykernel)",
   "language": "python",
   "name": "python3"
  },
  "language_info": {
   "codemirror_mode": {
    "name": "ipython",
    "version": 3
   },
   "file_extension": ".py",
   "mimetype": "text/x-python",
   "name": "python",
   "nbconvert_exporter": "python",
   "pygments_lexer": "ipython3",
   "version": "3.8.12"
  },
  "toc": {
   "base_numbering": 1,
   "nav_menu": {},
   "number_sections": true,
   "sideBar": true,
   "skip_h1_title": false,
   "title_cell": "Table of Contents",
   "title_sidebar": "Contents",
   "toc_cell": false,
   "toc_position": {},
   "toc_section_display": true,
   "toc_window_display": false
  },
  "varInspector": {
   "cols": {
    "lenName": 16,
    "lenType": 16,
    "lenVar": 40
   },
   "kernels_config": {
    "python": {
     "delete_cmd_postfix": "",
     "delete_cmd_prefix": "del ",
     "library": "var_list.py",
     "varRefreshCmd": "print(var_dic_list())"
    },
    "r": {
     "delete_cmd_postfix": ") ",
     "delete_cmd_prefix": "rm(",
     "library": "var_list.r",
     "varRefreshCmd": "cat(var_dic_list()) "
    }
   },
   "types_to_exclude": [
    "module",
    "function",
    "builtin_function_or_method",
    "instance",
    "_Feature"
   ],
   "window_display": false
  }
 },
 "nbformat": 4,
 "nbformat_minor": 1
}
