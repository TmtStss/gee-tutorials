{
 "cells": [
  {
   "cell_type": "code",
   "execution_count": 6,
   "id": "b2d3a3b8",
   "metadata": {},
   "outputs": [],
   "source": [
    "import ee\n",
    "import geemap\n",
    "import math"
   ]
  },
  {
   "cell_type": "code",
   "execution_count": 17,
   "id": "04b8a343",
   "metadata": {},
   "outputs": [],
   "source": [
    "ee.Initialize()"
   ]
  },
  {
   "cell_type": "code",
   "execution_count": 7,
   "id": "8196cdfd",
   "metadata": {},
   "outputs": [],
   "source": [
    "def generate_square_centroid(coordinates, edge):\n",
    "    return ee.Geometry.Point(coordinates).buffer(edge/2).bounds()"
   ]
  },
  {
   "cell_type": "code",
   "execution_count": 26,
   "id": "a6051733",
   "metadata": {},
   "outputs": [],
   "source": [
    "coord_1 = [10.451526, 51.165691]\n",
    "geom_1 = generate_square_centroid(coord_1, 100)"
   ]
  },
  {
   "cell_type": "code",
   "execution_count": 27,
   "id": "2c7a9ce6",
   "metadata": {},
   "outputs": [
    {
     "data": {
      "application/vnd.jupyter.widget-view+json": {
       "model_id": "33dc207242cd47bd9cc97c59885eb0cf",
       "version_major": 2,
       "version_minor": 0
      },
      "text/plain": [
       "Map(center=[20, 0], controls=(WidgetControl(options=['position', 'transparent_bg'], widget=HBox(children=(Togg…"
      ]
     },
     "metadata": {},
     "output_type": "display_data"
    }
   ],
   "source": [
    "Map = geemap.Map()\n",
    "Map.addLayer(geom_1, {}, 'geometry')\n",
    "Map.centerObject(geom_1)\n",
    "Map"
   ]
  },
  {
   "cell_type": "code",
   "execution_count": 29,
   "id": "e6a2c2c8",
   "metadata": {
    "scrolled": true
   },
   "outputs": [
    {
     "name": "stdout",
     "output_type": "stream",
     "text": [
      "surface in m²: 9944.941861614037\n"
     ]
    }
   ],
   "source": [
    "area = geom_1.area(maxError = 0.1)\n",
    "print('surface in m²:', area.getInfo())"
   ]
  }
 ],
 "metadata": {
  "kernelspec": {
   "display_name": "Python 3 (ipykernel)",
   "language": "python",
   "name": "python3"
  },
  "language_info": {
   "codemirror_mode": {
    "name": "ipython",
    "version": 3
   },
   "file_extension": ".py",
   "mimetype": "text/x-python",
   "name": "python",
   "nbconvert_exporter": "python",
   "pygments_lexer": "ipython3",
   "version": "3.8.12"
  },
  "toc": {
   "base_numbering": 1,
   "nav_menu": {},
   "number_sections": true,
   "sideBar": true,
   "skip_h1_title": false,
   "title_cell": "Table of Contents",
   "title_sidebar": "Contents",
   "toc_cell": false,
   "toc_position": {},
   "toc_section_display": true,
   "toc_window_display": false
  }
 },
 "nbformat": 4,
 "nbformat_minor": 5
}
