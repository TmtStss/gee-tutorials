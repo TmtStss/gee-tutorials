{
 "cells": [
  {
   "cell_type": "markdown",
   "metadata": {},
   "source": [
    "[![Open In Colab](https://colab.research.google.com/assets/colab-badge.svg)](https://githubtocolab.com/giswqs/gee-tutorials/blob/master/ImageCollection/image_collection_overview.ipynb)"
   ]
  },
  {
   "cell_type": "markdown",
   "metadata": {},
   "source": [
    "**Getting Started with Earth Engine ImageCollection**\n",
    "\n",
    "As illustrated in the [Get Started section](https://developers.google.com/earth-engine/guides/getstarted) and the [ImageCollection Information section](https://developers.google.com/earth-engine/guides/ic_info), Earth Engine provides a variety of convenience methods for filtering image collections. Specifically, many common use cases are handled by `imageCollection.filterDate()`, and `imageCollection.filterBounds()`. For general purpose filtering, use `imageCollection.filter()` with an ee.Filter as an argument. The following example demonstrates both convenience methods and `filter()` to identify and remove images with bad registration from an `ImageCollection`:"
   ]
  },
  {
   "cell_type": "code",
   "execution_count": 1,
   "metadata": {},
   "outputs": [],
   "source": [
    "import ee\n",
    "import geemap"
   ]
  },
  {
   "cell_type": "code",
   "execution_count": 2,
   "metadata": {},
   "outputs": [
    {
     "data": {
      "application/vnd.jupyter.widget-view+json": {
       "model_id": "a95ca515b3504f3891538aa58c9d4df7",
       "version_major": 2,
       "version_minor": 0
      },
      "text/plain": [
       "Map(center=[20, 0], controls=(WidgetControl(options=['position', 'transparent_bg'], widget=HBox(children=(Togg…"
      ]
     },
     "metadata": {},
     "output_type": "display_data"
    }
   ],
   "source": [
    "Map = geemap.Map()\n",
    "Map"
   ]
  },
  {
   "cell_type": "markdown",
   "metadata": {},
   "source": [
    "## Get collection size"
   ]
  },
  {
   "cell_type": "code",
   "execution_count": 3,
   "metadata": {},
   "outputs": [],
   "source": [
    "collection = ee.ImageCollection('LANDSAT/LC08/C01/T1_SR')"
   ]
  },
  {
   "cell_type": "code",
   "execution_count": 4,
   "metadata": {},
   "outputs": [
    {
     "name": "stdout",
     "output_type": "stream",
     "text": [
      "1233209\n"
     ]
    }
   ],
   "source": [
    "print(collection.size().getInfo())"
   ]
  },
  {
   "cell_type": "markdown",
   "metadata": {},
   "source": [
    "## Get the first image"
   ]
  },
  {
   "cell_type": "code",
   "execution_count": 5,
   "metadata": {},
   "outputs": [
    {
     "data": {
      "text/plain": [
       "{'CLOUD_COVER': 88.55,\n",
       " 'CLOUD_COVER_LAND': 38.2,\n",
       " 'EARTH_SUN_DISTANCE': 1.012707,\n",
       " 'ESPA_VERSION': '2_23_0_1a',\n",
       " 'GEOMETRIC_RMSE_MODEL': 7.666,\n",
       " 'GEOMETRIC_RMSE_MODEL_X': 5.483,\n",
       " 'GEOMETRIC_RMSE_MODEL_Y': 5.358,\n",
       " 'IMAGE_DATE': '2014-05-24',\n",
       " 'IMAGE_QUALITY_OLI': 9,\n",
       " 'IMAGE_QUALITY_TIRS': 9,\n",
       " 'LANDSAT_ID': 'LC08_L1TP_001004_20140524_20170422_01_T1',\n",
       " 'LEVEL1_PRODUCTION_DATE': 1492857311000,\n",
       " 'NOMINAL_SCALE': 30,\n",
       " 'PIXEL_QA_VERSION': 'generate_pixel_qa_1.6.0',\n",
       " 'SATELLITE': 'LANDSAT_8',\n",
       " 'SENSING_TIME': '2014-05-24T14:07:53.5175160Z',\n",
       " 'SOLAR_AZIMUTH_ANGLE': -161.343674,\n",
       " 'SOLAR_ZENITH_ANGLE': 57.854137,\n",
       " 'SR_APP_VERSION': 'LaSRC_1.3.0',\n",
       " 'WRS_PATH': 1,\n",
       " 'WRS_ROW': 4,\n",
       " 'system:asset_size': '633.527205 MB',\n",
       " 'system:band_names': ['B1',\n",
       "  'B2',\n",
       "  'B3',\n",
       "  'B4',\n",
       "  'B5',\n",
       "  'B6',\n",
       "  'B7',\n",
       "  'B10',\n",
       "  'B11',\n",
       "  'sr_aerosol',\n",
       "  'pixel_qa',\n",
       "  'radsat_qa'],\n",
       " 'system:id': 'LANDSAT/LC08/C01/T1_SR/LC08_001004_20140524',\n",
       " 'system:index': 'LC08_001004_20140524',\n",
       " 'system:time_end': '2014-05-24 14:07:53',\n",
       " 'system:time_start': '2014-05-24 14:07:53',\n",
       " 'system:version': 1522727451594601}"
      ]
     },
     "execution_count": 5,
     "metadata": {},
     "output_type": "execute_result"
    }
   ],
   "source": [
    "image = collection.first()\n",
    "geemap.image_props(image).getInfo()"
   ]
  },
  {
   "cell_type": "code",
   "execution_count": 7,
   "metadata": {},
   "outputs": [
    {
     "data": {
      "application/vnd.jupyter.widget-view+json": {
       "model_id": "a95ca515b3504f3891538aa58c9d4df7",
       "version_major": 2,
       "version_minor": 0
      },
      "text/plain": [
       "Map(bottom=2592.0, center=[78.11507273462493, -15.973500003273143], controls=(WidgetControl(options=['position…"
      ]
     },
     "metadata": {},
     "output_type": "display_data"
    }
   ],
   "source": [
    "Map.addLayer(image, {}, \"First image\")\n",
    "Map.centerObject(image, 6)\n",
    "Map"
   ]
  },
  {
   "cell_type": "markdown",
   "metadata": {},
   "source": [
    "## Filter by dates\n",
    "\n",
    "https://developers.google.com/earth-engine/apidocs/ee-imagecollection-filterdate"
   ]
  },
  {
   "cell_type": "code",
   "execution_count": 8,
   "metadata": {},
   "outputs": [],
   "source": [
    "collection = ee.ImageCollection('LANDSAT/LC08/C01/T1_SR') \\\n",
    "    .filterDate('2020-01-01', '2020-12-31')"
   ]
  },
  {
   "cell_type": "code",
   "execution_count": 9,
   "metadata": {},
   "outputs": [
    {
     "name": "stdout",
     "output_type": "stream",
     "text": [
      "140225\n"
     ]
    }
   ],
   "source": [
    "print(collection.size().getInfo())"
   ]
  },
  {
   "cell_type": "code",
   "execution_count": 10,
   "metadata": {},
   "outputs": [
    {
     "data": {
      "application/vnd.jupyter.widget-view+json": {
       "model_id": "a95ca515b3504f3891538aa58c9d4df7",
       "version_major": 2,
       "version_minor": 0
      },
      "text/plain": [
       "Map(bottom=1413.0, center=[78.14030281688883, -16.100684661875555], controls=(WidgetControl(options=['position…"
      ]
     },
     "metadata": {},
     "output_type": "display_data"
    }
   ],
   "source": [
    "image2 = collection.first()\n",
    "Map.addLayer(image2, {}, \"Another image\")\n",
    "Map.centerObject(image2, 6)\n",
    "Map"
   ]
  },
  {
   "cell_type": "markdown",
   "metadata": {},
   "source": [
    "## Filter by location\n",
    "\n",
    "https://developers.google.com/earth-engine/apidocs/ee-imagecollection-filterbounds"
   ]
  },
  {
   "cell_type": "code",
   "execution_count": 11,
   "metadata": {},
   "outputs": [],
   "source": [
    "roi = ee.Geometry.Point(-122.4488, 37.7589)"
   ]
  },
  {
   "cell_type": "code",
   "execution_count": 12,
   "metadata": {},
   "outputs": [],
   "source": [
    "collection = ee.ImageCollection('LANDSAT/LC08/C01/T1_SR') \\\n",
    "    .filterDate('2020-01-01', '2020-12-31') \\\n",
    "    .filterBounds(roi)"
   ]
  },
  {
   "cell_type": "code",
   "execution_count": 13,
   "metadata": {},
   "outputs": [
    {
     "name": "stdout",
     "output_type": "stream",
     "text": [
      "21\n"
     ]
    }
   ],
   "source": [
    "print(collection.size().getInfo())"
   ]
  },
  {
   "cell_type": "code",
   "execution_count": 14,
   "metadata": {},
   "outputs": [
    {
     "data": {
      "application/vnd.jupyter.widget-view+json": {
       "model_id": "7c073a45dce74721907d7fd5b563ab65",
       "version_major": 2,
       "version_minor": 0
      },
      "text/plain": [
       "Map(center=[37.47299148438048, -122.1059699711285], controls=(WidgetControl(options=['position', 'transparent_…"
      ]
     },
     "metadata": {},
     "output_type": "display_data"
    }
   ],
   "source": [
    "Map = geemap.Map()\n",
    "image = collection.first()\n",
    "\n",
    "vis_param = {'min': 0, \n",
    "             'max': 2000, \n",
    "             'bands': ['B5', 'B4', 'B3'], \n",
    "             'gamma': 1.5}\n",
    "\n",
    "Map.addLayer(image, vis_param, \"First mage\")\n",
    "Map.centerObject(image, 8)\n",
    "\n",
    "Map"
   ]
  },
  {
   "cell_type": "markdown",
   "metadata": {},
   "source": [
    "## Filter by metadata\n",
    "\n",
    "https://developers.google.com/earth-engine/apidocs/ee-imagecollection-filtermetadata"
   ]
  },
  {
   "cell_type": "code",
   "execution_count": 15,
   "metadata": {},
   "outputs": [],
   "source": [
    "collection = ee.ImageCollection('LANDSAT/LC08/C01/T1_SR') \\\n",
    "    .filterDate('2020-01-01', '2020-12-31') \\\n",
    "    .filterBounds(ee.Geometry.Point(-122.4488, 37.7589)) \\\n",
    "    .filterMetadata('CLOUD_COVER', 'less_than', 10) \\\n",
    "    .sort(\"CLOUD_COVER\")"
   ]
  },
  {
   "cell_type": "code",
   "execution_count": 16,
   "metadata": {},
   "outputs": [
    {
     "data": {
      "application/vnd.jupyter.widget-view+json": {
       "model_id": "dc75d5774b6d4a4aae8f67a3762ac694",
       "version_major": 2,
       "version_minor": 0
      },
      "text/plain": [
       "Map(center=[37.47298074012687, -122.11977453809268], controls=(WidgetControl(options=['position', 'transparent…"
      ]
     },
     "metadata": {},
     "output_type": "display_data"
    }
   ],
   "source": [
    "Map = geemap.Map()\n",
    "image = collection.first()\n",
    "\n",
    "vis_param = {'min': 0, \n",
    "             'max': 2000, \n",
    "             'bands': ['B5', 'B4', 'B3'], \n",
    "             'gamma': 1.5}\n",
    "\n",
    "Map.addLayer(image, vis_param, \"First mage\")\n",
    "Map.centerObject(image, 8)\n",
    "\n",
    "Map"
   ]
  },
  {
   "cell_type": "code",
   "execution_count": 17,
   "metadata": {},
   "outputs": [
    {
     "data": {
      "text/plain": [
       "{'CLOUD_COVER': 0.07,\n",
       " 'CLOUD_COVER_LAND': 0.1,\n",
       " 'EARTH_SUN_DISTANCE': 0.997823,\n",
       " 'ESPA_VERSION': '2_23_0_1b',\n",
       " 'GEOMETRIC_RMSE_MODEL': 6.867,\n",
       " 'GEOMETRIC_RMSE_MODEL_X': 4.673,\n",
       " 'GEOMETRIC_RMSE_MODEL_Y': 5.031,\n",
       " 'IMAGE_DATE': '2020-10-12',\n",
       " 'IMAGE_QUALITY_OLI': 9,\n",
       " 'IMAGE_QUALITY_TIRS': 9,\n",
       " 'LANDSAT_ID': 'LC08_L1TP_044034_20201012_20201104_01_T1',\n",
       " 'LEVEL1_PRODUCTION_DATE': 1604502607000,\n",
       " 'NOMINAL_SCALE': 30,\n",
       " 'PIXEL_QA_VERSION': 'generate_pixel_qa_1.6.0',\n",
       " 'SATELLITE': 'LANDSAT_8',\n",
       " 'SENSING_TIME': '2020-10-12T18:46:24.8043990Z',\n",
       " 'SOLAR_AZIMUTH_ANGLE': 156.943848,\n",
       " 'SOLAR_ZENITH_ANGLE': 47.988567,\n",
       " 'SR_APP_VERSION': 'LaSRC_1.3.0',\n",
       " 'WRS_PATH': 44,\n",
       " 'WRS_ROW': 34,\n",
       " 'system:asset_size': '556.916351 MB',\n",
       " 'system:band_names': ['B1',\n",
       "  'B2',\n",
       "  'B3',\n",
       "  'B4',\n",
       "  'B5',\n",
       "  'B6',\n",
       "  'B7',\n",
       "  'B10',\n",
       "  'B11',\n",
       "  'sr_aerosol',\n",
       "  'pixel_qa',\n",
       "  'radsat_qa'],\n",
       " 'system:id': 'LANDSAT/LC08/C01/T1_SR/LC08_044034_20201012',\n",
       " 'system:index': 'LC08_044034_20201012',\n",
       " 'system:time_end': '2020-10-12 18:46:24',\n",
       " 'system:time_start': '2020-10-12 18:46:24',\n",
       " 'system:version': 1604744200215236}"
      ]
     },
     "execution_count": 17,
     "metadata": {},
     "output_type": "execute_result"
    }
   ],
   "source": [
    "geemap.image_props(image).getInfo()"
   ]
  },
  {
   "cell_type": "markdown",
   "metadata": {},
   "source": [
    "## Get image collection properties"
   ]
  },
  {
   "cell_type": "code",
   "execution_count": 18,
   "metadata": {},
   "outputs": [],
   "source": [
    "collection = ee.ImageCollection('LANDSAT/LC08/C01/T1_SR') \\\n",
    "    .filterDate('2020-01-01', '2020-12-31') \\\n",
    "    .filterBounds(ee.Geometry.Point(-122.4488, 37.7589)) \\\n",
    "    .filterMetadata('CLOUD_COVER', 'less_than', 10)"
   ]
  },
  {
   "cell_type": "code",
   "execution_count": 22,
   "metadata": {},
   "outputs": [
    {
     "data": {
      "text/plain": [
       "6"
      ]
     },
     "execution_count": 22,
     "metadata": {},
     "output_type": "execute_result"
    }
   ],
   "source": [
    "collection.size().getInfo()"
   ]
  },
  {
   "cell_type": "code",
   "execution_count": 19,
   "metadata": {},
   "outputs": [
    {
     "data": {
      "text/plain": [
       "[0.55, 0.46, 6.53, 0.07, 2.96, 0.55]"
      ]
     },
     "execution_count": 19,
     "metadata": {},
     "output_type": "execute_result"
    }
   ],
   "source": [
    "collection.aggregate_array('CLOUD_COVER').getInfo()"
   ]
  },
  {
   "cell_type": "code",
   "execution_count": 23,
   "metadata": {},
   "outputs": [
    {
     "data": {
      "text/plain": [
       "['LANDSAT/LC08/C01/T1_SR/LC08_044034_20200302',\n",
       " 'LANDSAT/LC08/C01/T1_SR/LC08_044034_20200403',\n",
       " 'LANDSAT/LC08/C01/T1_SR/LC08_044034_20200606',\n",
       " 'LANDSAT/LC08/C01/T1_SR/LC08_044034_20201012',\n",
       " 'LANDSAT/LC08/C01/T1_SR/LC08_044034_20201028',\n",
       " 'LANDSAT/LC08/C01/T1_SR/LC08_044034_20201129']"
      ]
     },
     "execution_count": 23,
     "metadata": {},
     "output_type": "execute_result"
    }
   ],
   "source": [
    "collection.aggregate_array('system:id').getInfo()"
   ]
  },
  {
   "cell_type": "code",
   "execution_count": 24,
   "metadata": {},
   "outputs": [
    {
     "data": {
      "text/plain": [
       "1.8533333333333335"
      ]
     },
     "execution_count": 24,
     "metadata": {},
     "output_type": "execute_result"
    }
   ],
   "source": [
    "collection.aggregate_mean('CLOUD_COVER').getInfo()"
   ]
  }
 ],
 "metadata": {
  "anaconda-cloud": {},
  "hide_input": false,
  "kernelspec": {
   "display_name": "Python 3 (ipykernel)",
   "language": "python",
   "name": "python3"
  },
  "language_info": {
   "codemirror_mode": {
    "name": "ipython",
    "version": 3
   },
   "file_extension": ".py",
   "mimetype": "text/x-python",
   "name": "python",
   "nbconvert_exporter": "python",
   "pygments_lexer": "ipython3",
   "version": "3.8.12"
  },
  "toc": {
   "base_numbering": 1,
   "nav_menu": {},
   "number_sections": true,
   "sideBar": true,
   "skip_h1_title": false,
   "title_cell": "Table of Contents",
   "title_sidebar": "Contents",
   "toc_cell": false,
   "toc_position": {},
   "toc_section_display": true,
   "toc_window_display": false
  },
  "varInspector": {
   "cols": {
    "lenName": 16,
    "lenType": 16,
    "lenVar": 40
   },
   "kernels_config": {
    "python": {
     "delete_cmd_postfix": "",
     "delete_cmd_prefix": "del ",
     "library": "var_list.py",
     "varRefreshCmd": "print(var_dic_list())"
    },
    "r": {
     "delete_cmd_postfix": ") ",
     "delete_cmd_prefix": "rm(",
     "library": "var_list.r",
     "varRefreshCmd": "cat(var_dic_list()) "
    }
   },
   "types_to_exclude": [
    "module",
    "function",
    "builtin_function_or_method",
    "instance",
    "_Feature"
   ],
   "window_display": false
  }
 },
 "nbformat": 4,
 "nbformat_minor": 1
}
