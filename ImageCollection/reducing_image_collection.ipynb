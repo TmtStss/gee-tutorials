{
 "cells": [
  {
   "cell_type": "markdown",
   "metadata": {},
   "source": [
    "[![Open In Colab](https://colab.research.google.com/assets/colab-badge.svg)](https://githubtocolab.com/giswqs/gee-tutorials/blob/master/ImageCollection/reducing_image_collection.ipynb)"
   ]
  },
  {
   "cell_type": "markdown",
   "metadata": {},
   "source": [
    "**Reducing an ImageCollection**\n",
    "\n",
    "To composite images in an `ImageCollection`, use `imageCollection.reduce()`. This will composite all the images in the collection to a single image representing, for example, the min, max, mean or standard deviation of the images. (See the Reducers section for more information about reducers). For example, to create a median value image from a collection:"
   ]
  },
  {
   "cell_type": "markdown",
   "metadata": {},
   "source": [
    "## Create an interactive map"
   ]
  },
  {
   "cell_type": "code",
   "execution_count": 1,
   "metadata": {},
   "outputs": [],
   "source": [
    "import ee\n",
    "import geemap"
   ]
  },
  {
   "cell_type": "code",
   "execution_count": 2,
   "metadata": {},
   "outputs": [
    {
     "data": {
      "application/vnd.jupyter.widget-view+json": {
       "model_id": "ddd154e6c6f74173b1b3aea79be5f5d2",
       "version_major": 2,
       "version_minor": 0
      },
      "text/plain": [
       "Map(center=[20, 0], controls=(WidgetControl(options=['position', 'transparent_bg'], widget=HBox(children=(Togg…"
      ]
     },
     "metadata": {},
     "output_type": "display_data"
    }
   ],
   "source": [
    "Map = geemap.Map()\n",
    "Map"
   ]
  },
  {
   "cell_type": "markdown",
   "metadata": {},
   "source": [
    "## Compute a median image"
   ]
  },
  {
   "cell_type": "code",
   "execution_count": 4,
   "metadata": {},
   "outputs": [],
   "source": [
    "# Load a Landsat 8 collection for a single path-row.\n",
    "collection = ee.ImageCollection('LANDSAT/LC08/C01/T1_TOA') \\\n",
    "    .filter(ee.Filter.eq('WRS_PATH', 44)) \\\n",
    "    .filter(ee.Filter.eq('WRS_ROW', 34)) \\\n",
    "    .filterDate('2014-01-01', '2015-01-01')\n",
    "\n",
    "# Compute a median image and display.\n",
    "median = collection.median()\n",
    "Map.setCenter(-122.3578, 37.7726, 12)\n",
    "Map.addLayer(median, {'bands': ['B4',  'B3',  'B2'], 'max': 0.3}, 'median')"
   ]
  },
  {
   "cell_type": "code",
   "execution_count": 5,
   "metadata": {},
   "outputs": [
    {
     "data": {
      "text/plain": [
       "19"
      ]
     },
     "execution_count": 5,
     "metadata": {},
     "output_type": "execute_result"
    }
   ],
   "source": [
    "collection.size().getInfo()"
   ]
  },
  {
   "cell_type": "code",
   "execution_count": 6,
   "metadata": {},
   "outputs": [
    {
     "data": {
      "text/plain": [
       "['LANDSAT/LC08/C01/T1_TOA/LC08_044034_20140113',\n",
       " 'LANDSAT/LC08/C01/T1_TOA/LC08_044034_20140129',\n",
       " 'LANDSAT/LC08/C01/T1_TOA/LC08_044034_20140214',\n",
       " 'LANDSAT/LC08/C01/T1_TOA/LC08_044034_20140318',\n",
       " 'LANDSAT/LC08/C01/T1_TOA/LC08_044034_20140403',\n",
       " 'LANDSAT/LC08/C01/T1_TOA/LC08_044034_20140419',\n",
       " 'LANDSAT/LC08/C01/T1_TOA/LC08_044034_20140505',\n",
       " 'LANDSAT/LC08/C01/T1_TOA/LC08_044034_20140521',\n",
       " 'LANDSAT/LC08/C01/T1_TOA/LC08_044034_20140606',\n",
       " 'LANDSAT/LC08/C01/T1_TOA/LC08_044034_20140622',\n",
       " 'LANDSAT/LC08/C01/T1_TOA/LC08_044034_20140708',\n",
       " 'LANDSAT/LC08/C01/T1_TOA/LC08_044034_20140724',\n",
       " 'LANDSAT/LC08/C01/T1_TOA/LC08_044034_20140809',\n",
       " 'LANDSAT/LC08/C01/T1_TOA/LC08_044034_20140825',\n",
       " 'LANDSAT/LC08/C01/T1_TOA/LC08_044034_20140910',\n",
       " 'LANDSAT/LC08/C01/T1_TOA/LC08_044034_20140926',\n",
       " 'LANDSAT/LC08/C01/T1_TOA/LC08_044034_20141012',\n",
       " 'LANDSAT/LC08/C01/T1_TOA/LC08_044034_20141028',\n",
       " 'LANDSAT/LC08/C01/T1_TOA/LC08_044034_20141231']"
      ]
     },
     "execution_count": 6,
     "metadata": {},
     "output_type": "execute_result"
    }
   ],
   "source": [
    "collection.aggregate_array(\"system:id\").getInfo()"
   ]
  },
  {
   "cell_type": "markdown",
   "metadata": {},
   "source": [
    "## Use median reducer"
   ]
  },
  {
   "cell_type": "markdown",
   "metadata": {},
   "source": [
    "At each location in the output image, in each band, the pixel value is the median of all unmasked pixels in the input imagery (the images in the collection). In the previous example, `median()` is a convenience method for the following call:"
   ]
  },
  {
   "cell_type": "code",
   "execution_count": 8,
   "metadata": {},
   "outputs": [
    {
     "data": {
      "application/vnd.jupyter.widget-view+json": {
       "model_id": "ddd154e6c6f74173b1b3aea79be5f5d2",
       "version_major": 2,
       "version_minor": 0
      },
      "text/plain": [
       "Map(bottom=102416.0, center=[36.910372213522535, -121.87670918896643], controls=(WidgetControl(options=['posit…"
      ]
     },
     "metadata": {},
     "output_type": "display_data"
    }
   ],
   "source": [
    "# Reduce the collection with a median reducer.\n",
    "median = collection.reduce(ee.Reducer.median())\n",
    "\n",
    "# Display the median image.\n",
    "Map.addLayer(median,\n",
    "             {'bands': ['B4_median',  'B3_median',  'B2_median'], 'max': 0.3},\n",
    "             'also median')\n",
    "Map"
   ]
  },
  {
   "cell_type": "markdown",
   "metadata": {},
   "source": [
    "## Create an image composite"
   ]
  },
  {
   "cell_type": "code",
   "execution_count": 9,
   "metadata": {},
   "outputs": [],
   "source": [
    "states = ee.FeatureCollection('TIGER/2018/States')\n",
    "Map.addLayer(states, {}, \"US States\")"
   ]
  },
  {
   "cell_type": "code",
   "execution_count": 10,
   "metadata": {},
   "outputs": [],
   "source": [
    "ca = states.filter(ee.Filter.eq(\"NAME\", \"California\"))\n",
    "Map.addLayer(ca, {}, \"California\")"
   ]
  },
  {
   "cell_type": "code",
   "execution_count": 11,
   "metadata": {},
   "outputs": [],
   "source": [
    "collection = ee.ImageCollection('LANDSAT/LC08/C01/T1_TOA') \\\n",
    "    .filterBounds(ca) \\\n",
    "    .filterDate('2020-01-01', '2021-01-01')"
   ]
  },
  {
   "cell_type": "code",
   "execution_count": 12,
   "metadata": {},
   "outputs": [
    {
     "data": {
      "text/plain": [
       "838"
      ]
     },
     "execution_count": 12,
     "metadata": {},
     "output_type": "execute_result"
    }
   ],
   "source": [
    "collection.size().getInfo()"
   ]
  },
  {
   "cell_type": "code",
   "execution_count": 13,
   "metadata": {},
   "outputs": [],
   "source": [
    "image = collection.median().clip(ca)\n",
    "Map.addLayer(image, {'bands': ['B4',  'B3',  'B2'], 'max': 0.3}, 'Landsat 2020')"
   ]
  }
 ],
 "metadata": {
  "hide_input": false,
  "kernelspec": {
   "display_name": "Python 3 (ipykernel)",
   "language": "python",
   "name": "python3"
  },
  "language_info": {
   "codemirror_mode": {
    "name": "ipython",
    "version": 3
   },
   "file_extension": ".py",
   "mimetype": "text/x-python",
   "name": "python",
   "nbconvert_exporter": "python",
   "pygments_lexer": "ipython3",
   "version": "3.8.12"
  },
  "toc": {
   "base_numbering": 1,
   "nav_menu": {},
   "number_sections": true,
   "sideBar": true,
   "skip_h1_title": false,
   "title_cell": "Table of Contents",
   "title_sidebar": "Contents",
   "toc_cell": false,
   "toc_position": {},
   "toc_section_display": true,
   "toc_window_display": false
  },
  "varInspector": {
   "cols": {
    "lenName": 16,
    "lenType": 16,
    "lenVar": 40
   },
   "kernels_config": {
    "python": {
     "delete_cmd_postfix": "",
     "delete_cmd_prefix": "del ",
     "library": "var_list.py",
     "varRefreshCmd": "print(var_dic_list())"
    },
    "r": {
     "delete_cmd_postfix": ") ",
     "delete_cmd_prefix": "rm(",
     "library": "var_list.r",
     "varRefreshCmd": "cat(var_dic_list()) "
    }
   },
   "types_to_exclude": [
    "module",
    "function",
    "builtin_function_or_method",
    "instance",
    "_Feature"
   ],
   "window_display": false
  }
 },
 "nbformat": 4,
 "nbformat_minor": 4
}
