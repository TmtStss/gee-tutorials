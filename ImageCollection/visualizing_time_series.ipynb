{
 "cells": [
  {
   "cell_type": "markdown",
   "metadata": {},
   "source": [
    "[![Open In Colab](https://colab.research.google.com/assets/colab-badge.svg)](https://githubtocolab.com/giswqs/gee-tutorials/blob/master/ImageCollection/visualizing_time_series.ipynb)"
   ]
  },
  {
   "cell_type": "code",
   "execution_count": 1,
   "metadata": {},
   "outputs": [],
   "source": [
    "import ee\n",
    "import geemap"
   ]
  },
  {
   "cell_type": "code",
   "execution_count": 2,
   "metadata": {},
   "outputs": [],
   "source": [
    "# geemap.update_package()"
   ]
  },
  {
   "cell_type": "markdown",
   "metadata": {},
   "source": [
    "## Visualizing weather data"
   ]
  },
  {
   "cell_type": "code",
   "execution_count": 3,
   "metadata": {
    "scrolled": false
   },
   "outputs": [
    {
     "data": {
      "application/vnd.jupyter.widget-view+json": {
       "model_id": "4cbdb38e958e4330853b3781ed0408a7",
       "version_major": 2,
       "version_minor": 0
      },
      "text/plain": [
       "Map(center=[25.79, -0.349], controls=(WidgetControl(options=['position', 'transparent_bg'], widget=HBox(childr…"
      ]
     },
     "metadata": {},
     "output_type": "display_data"
    }
   ],
   "source": [
    "Map = geemap.Map()\n",
    "\n",
    "collection = ee.ImageCollection('NOAA/GFS0P25') \\\n",
    "  .filterDate('2018-12-22', '2018-12-23') \\\n",
    "  .limit(24) \\\n",
    "  .select('temperature_2m_above_ground')\n",
    "\n",
    "vis_params = {\n",
    "  'min': -40.0,\n",
    "  'max': 35.0,\n",
    "  'palette': ['blue', 'purple', 'cyan', 'green', 'yellow', 'red']\n",
    "}\n",
    "\n",
    "first_image = collection.first()\n",
    "\n",
    "Map.addLayer(first_image, vis_params, \"First image\")\n",
    "Map.setCenter(-0.3490, 25.7900, 2)\n",
    "Map"
   ]
  },
  {
   "cell_type": "code",
   "execution_count": 4,
   "metadata": {},
   "outputs": [],
   "source": [
    "image = collection.toBands()\n",
    "Map.addLayer(image, {}, \"Time series\", False)"
   ]
  },
  {
   "cell_type": "code",
   "execution_count": 5,
   "metadata": {},
   "outputs": [
    {
     "data": {
      "text/plain": [
       "['00:00',\n",
       " '01:00',\n",
       " '02:00',\n",
       " '03:00',\n",
       " '04:00',\n",
       " '05:00',\n",
       " '06:00',\n",
       " '07:00',\n",
       " '08:00',\n",
       " '09:00',\n",
       " '10:00',\n",
       " '11:00',\n",
       " '12:00',\n",
       " '13:00',\n",
       " '14:00',\n",
       " '15:00',\n",
       " '16:00',\n",
       " '17:00',\n",
       " '18:00',\n",
       " '19:00',\n",
       " '20:00',\n",
       " '21:00',\n",
       " '22:00',\n",
       " '23:00']"
      ]
     },
     "execution_count": 5,
     "metadata": {},
     "output_type": "execute_result"
    }
   ],
   "source": [
    "labels = [str(n).zfill(2) + \":00\" for n in range(0, 24)]\n",
    "labels"
   ]
  },
  {
   "cell_type": "code",
   "execution_count": 6,
   "metadata": {},
   "outputs": [
    {
     "data": {
      "application/vnd.jupyter.widget-view+json": {
       "model_id": "4cbdb38e958e4330853b3781ed0408a7",
       "version_major": 2,
       "version_minor": 0
      },
      "text/plain": [
       "Map(center=[25.79, -0.349], controls=(WidgetControl(options=['position', 'transparent_bg'], widget=HBox(childr…"
      ]
     },
     "metadata": {},
     "output_type": "display_data"
    }
   ],
   "source": [
    "Map.add_time_slider(collection, vis_params, labels=labels, time_interval=1)\n",
    "Map"
   ]
  },
  {
   "cell_type": "markdown",
   "metadata": {},
   "source": [
    "## Visualizing vegetation data"
   ]
  },
  {
   "cell_type": "code",
   "execution_count": 7,
   "metadata": {
    "scrolled": false
   },
   "outputs": [
    {
     "data": {
      "application/vnd.jupyter.widget-view+json": {
       "model_id": "acb3fe99a9de48dcab2e45b81b50646b",
       "version_major": 2,
       "version_minor": 0
      },
      "text/plain": [
       "Map(center=[31.0529339857, -7.03125], controls=(WidgetControl(options=['position', 'transparent_bg'], widget=H…"
      ]
     },
     "metadata": {},
     "output_type": "display_data"
    }
   ],
   "source": [
    "Map = geemap.Map()\n",
    "\n",
    "collection = ee.ImageCollection('MODIS/MCD43A4_006_NDVI') \\\n",
    "                  .filter(ee.Filter.date('2018-04-01', '2018-05-01')) \\\n",
    "                  .select(\"NDVI\")\\\n",
    "\n",
    "vis_params = {\n",
    "  'min': 0.0,\n",
    "  'max': 1.0,\n",
    "  'palette': [\n",
    "    'FFFFFF', 'CE7E45', 'DF923D', 'F1B555', 'FCD163', '99B718', '74A901',\n",
    "    '66A000', '529400', '3E8601', '207401', '056201', '004C00', '023B01',\n",
    "    '012E01', '011D01', '011301'\n",
    "  ],\n",
    "}\n",
    "\n",
    "first_image = collection.first()\n",
    "\n",
    "Map.addLayer(first_image, vis_params, \"First image\")\n",
    "Map.setCenter(-7.03125, 31.0529339857, 2)\n",
    "Map"
   ]
  },
  {
   "cell_type": "code",
   "execution_count": 8,
   "metadata": {},
   "outputs": [],
   "source": [
    "image = collection.toBands()\n",
    "Map.addLayer(image, {}, \"Time series\", False)"
   ]
  },
  {
   "cell_type": "code",
   "execution_count": 9,
   "metadata": {},
   "outputs": [],
   "source": [
    "labels = collection.aggregate_array(\"system:index\").getInfo()\n",
    "Map.add_time_slider(collection, vis_params, labels=labels, time_interval=1)"
   ]
  },
  {
   "cell_type": "markdown",
   "metadata": {},
   "source": [
    "## Visualizing Landsat imagery"
   ]
  },
  {
   "cell_type": "code",
   "execution_count": 10,
   "metadata": {},
   "outputs": [
    {
     "data": {
      "application/vnd.jupyter.widget-view+json": {
       "model_id": "964d4c622f3247bdbf092fcf55ed58bf",
       "version_major": 2,
       "version_minor": 0
      },
      "text/plain": [
       "Map(center=[20, 0], controls=(WidgetControl(options=['position', 'transparent_bg'], widget=HBox(children=(Togg…"
      ]
     },
     "metadata": {},
     "output_type": "display_data"
    }
   ],
   "source": [
    "Map = geemap.Map()\n",
    "\n",
    "bands = ['B1', 'B2', 'B3', 'B4', 'B5', 'B7']\n",
    "image = ee.Image('LE7_TOA_5YEAR/1999_2003').select(bands)\n",
    "vis_params = {'min': 20, 'max': 200, 'gamma': 2.0}\n",
    "\n",
    "Map.add_time_slider(image, vis_params, labels=bands, time_interval=1)\n",
    "\n",
    "Map"
   ]
  }
 ],
 "metadata": {
  "hide_input": false,
  "kernelspec": {
   "display_name": "Python 3 (ipykernel)",
   "language": "python",
   "name": "python3"
  },
  "language_info": {
   "codemirror_mode": {
    "name": "ipython",
    "version": 3
   },
   "file_extension": ".py",
   "mimetype": "text/x-python",
   "name": "python",
   "nbconvert_exporter": "python",
   "pygments_lexer": "ipython3",
   "version": "3.8.12"
  },
  "toc": {
   "base_numbering": 1,
   "nav_menu": {},
   "number_sections": true,
   "sideBar": true,
   "skip_h1_title": false,
   "title_cell": "Table of Contents",
   "title_sidebar": "Contents",
   "toc_cell": false,
   "toc_position": {},
   "toc_section_display": true,
   "toc_window_display": false
  },
  "varInspector": {
   "cols": {
    "lenName": 16,
    "lenType": 16,
    "lenVar": 40
   },
   "kernels_config": {
    "python": {
     "delete_cmd_postfix": "",
     "delete_cmd_prefix": "del ",
     "library": "var_list.py",
     "varRefreshCmd": "print(var_dic_list())"
    },
    "r": {
     "delete_cmd_postfix": ") ",
     "delete_cmd_prefix": "rm(",
     "library": "var_list.r",
     "varRefreshCmd": "cat(var_dic_list()) "
    }
   },
   "types_to_exclude": [
    "module",
    "function",
    "builtin_function_or_method",
    "instance",
    "_Feature"
   ],
   "window_display": false
  }
 },
 "nbformat": 4,
 "nbformat_minor": 4
}
