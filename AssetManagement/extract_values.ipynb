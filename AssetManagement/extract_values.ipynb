{
 "cells": [
  {
   "cell_type": "markdown",
   "metadata": {},
   "source": [
    "<a href=\"https://githubtocolab.com/giswqs/gee-tutorials/blob/master/AssetManagement/extract_values.ipynb\" target=\"_parent\"><img src=\"https://colab.research.google.com/assets/colab-badge.svg\" alt=\"Open in Colab\"/></a>\n",
    "\n",
    "Uncomment the following line to install [geemap](https://geemap.org) if needed."
   ]
  },
  {
   "cell_type": "code",
   "execution_count": null,
   "metadata": {},
   "outputs": [],
   "source": [
    "# !pip install geemap"
   ]
  },
  {
   "cell_type": "code",
   "execution_count": 3,
   "metadata": {},
   "outputs": [
    {
     "name": "stdout",
     "output_type": "stream",
     "text": [
      "Downloading https://github.com/giswqs/geemap/archive/master.zip ...\n",
      "Unzipping geemap-master.zip ...\n",
      "Data downloaded to: /root/Downloads/geemap-master\n",
      "Processing /root/Downloads/geemap-master\n",
      "  Preparing metadata (setup.py): started\n",
      "  Preparing metadata (setup.py): finished with status 'done'\n",
      "Requirement already satisfied: bqplot in /root/.pyenv/versions/3.8.12/envs/lewagon/lib/python3.8/site-packages (from geemap==0.17.1) (0.12.36)\n",
      "Requirement already satisfied: colour in /root/.pyenv/versions/3.8.12/envs/lewagon/lib/python3.8/site-packages (from geemap==0.17.1) (0.1.5)\n",
      "Requirement already satisfied: earthengine-api>=0.1.304 in /root/.pyenv/versions/3.8.12/envs/lewagon/lib/python3.8/site-packages (from geemap==0.17.1) (0.1.309)\n",
      "Requirement already satisfied: ee_extra>=0.0.10 in /root/.pyenv/versions/3.8.12/envs/lewagon/lib/python3.8/site-packages (from geemap==0.17.1) (0.0.14)\n",
      "Requirement already satisfied: ffmpeg-python in /root/.pyenv/versions/3.8.12/envs/lewagon/lib/python3.8/site-packages (from geemap==0.17.1) (0.2.0)\n",
      "Requirement already satisfied: folium>=0.11.0 in /root/.pyenv/versions/3.8.12/envs/lewagon/lib/python3.8/site-packages (from geemap==0.17.1) (0.12.1.post1)\n",
      "Requirement already satisfied: gdown in /root/.pyenv/versions/3.8.12/envs/lewagon/lib/python3.8/site-packages (from geemap==0.17.1) (4.5.1)\n",
      "Requirement already satisfied: geeadd>=0.5.1 in /root/.pyenv/versions/3.8.12/envs/lewagon/lib/python3.8/site-packages (from geemap==0.17.1) (0.5.6)\n",
      "Requirement already satisfied: geocoder in /root/.pyenv/versions/3.8.12/envs/lewagon/lib/python3.8/site-packages (from geemap==0.17.1) (1.38.1)\n",
      "Requirement already satisfied: geojson in /root/.pyenv/versions/3.8.12/envs/lewagon/lib/python3.8/site-packages (from geemap==0.17.1) (2.5.0)\n",
      "Requirement already satisfied: ipyevents in /root/.pyenv/versions/3.8.12/envs/lewagon/lib/python3.8/site-packages (from geemap==0.17.1) (2.0.1)\n",
      "Requirement already satisfied: ipyfilechooser>=0.6.0 in /root/.pyenv/versions/3.8.12/envs/lewagon/lib/python3.8/site-packages (from geemap==0.17.1) (0.6.0)\n",
      "Requirement already satisfied: ipyleaflet>=0.17.0 in /root/.pyenv/versions/3.8.12/envs/lewagon/lib/python3.8/site-packages (from geemap==0.17.1) (0.17.1)\n",
      "Requirement already satisfied: ipytree in /root/.pyenv/versions/3.8.12/envs/lewagon/lib/python3.8/site-packages (from geemap==0.17.1) (0.2.2)\n",
      "Requirement already satisfied: jupyterlab>=3 in /root/.pyenv/versions/3.8.12/envs/lewagon/lib/python3.8/site-packages (from geemap==0.17.1) (3.2.5)\n",
      "Requirement already satisfied: matplotlib in /root/.pyenv/versions/3.8.12/envs/lewagon/lib/python3.8/site-packages (from geemap==0.17.1) (3.5.1)\n",
      "Requirement already satisfied: numpy in /root/.pyenv/versions/3.8.12/envs/lewagon/lib/python3.8/site-packages (from geemap==0.17.1) (1.18.5)\n",
      "Requirement already satisfied: pandas in /root/.pyenv/versions/3.8.12/envs/lewagon/lib/python3.8/site-packages (from geemap==0.17.1) (1.3.5)\n",
      "Requirement already satisfied: pillow in /root/.pyenv/versions/3.8.12/envs/lewagon/lib/python3.8/site-packages (from geemap==0.17.1) (9.0.0)\n",
      "Requirement already satisfied: pycrs in /root/.pyenv/versions/3.8.12/envs/lewagon/lib/python3.8/site-packages (from geemap==0.17.1) (1.0.2)\n",
      "Requirement already satisfied: pyshp>=2.1.3 in /root/.pyenv/versions/3.8.12/envs/lewagon/lib/python3.8/site-packages (from geemap==0.17.1) (2.3.1)\n",
      "Requirement already satisfied: python-box in /root/.pyenv/versions/3.8.12/envs/lewagon/lib/python3.8/site-packages (from geemap==0.17.1) (6.0.2)\n",
      "Requirement already satisfied: sankee>=0.1.0 in /root/.pyenv/versions/3.8.12/envs/lewagon/lib/python3.8/site-packages (from geemap==0.17.1) (0.2.0)\n",
      "Requirement already satisfied: scooby in /root/.pyenv/versions/3.8.12/envs/lewagon/lib/python3.8/site-packages (from geemap==0.17.1) (0.6.0)\n",
      "Requirement already satisfied: whiteboxgui>=0.6.0 in /root/.pyenv/versions/3.8.12/envs/lewagon/lib/python3.8/site-packages (from geemap==0.17.1) (0.7.0)\n",
      "Requirement already satisfied: xyzservices in /root/.pyenv/versions/3.8.12/envs/lewagon/lib/python3.8/site-packages (from geemap==0.17.1) (2022.6.0)\n",
      "Requirement already satisfied: google-auth-httplib2>=0.0.3 in /root/.pyenv/versions/3.8.12/envs/lewagon/lib/python3.8/site-packages (from earthengine-api>=0.1.304->geemap==0.17.1) (0.1.0)\n",
      "Requirement already satisfied: google-cloud-storage in /root/.pyenv/versions/3.8.12/envs/lewagon/lib/python3.8/site-packages (from earthengine-api>=0.1.304->geemap==0.17.1) (2.3.0)\n",
      "Requirement already satisfied: google-api-python-client<2,>=1.12.1 in /root/.pyenv/versions/3.8.12/envs/lewagon/lib/python3.8/site-packages (from earthengine-api>=0.1.304->geemap==0.17.1) (1.12.11)\n",
      "Requirement already satisfied: httplib2shim in /root/.pyenv/versions/3.8.12/envs/lewagon/lib/python3.8/site-packages (from earthengine-api>=0.1.304->geemap==0.17.1) (0.0.3)\n",
      "Requirement already satisfied: google-auth>=1.4.1 in /root/.pyenv/versions/3.8.12/envs/lewagon/lib/python3.8/site-packages (from earthengine-api>=0.1.304->geemap==0.17.1) (2.3.3)\n",
      "Requirement already satisfied: six in /root/.pyenv/versions/3.8.12/envs/lewagon/lib/python3.8/site-packages (from earthengine-api>=0.1.304->geemap==0.17.1) (1.14.0)\n",
      "Requirement already satisfied: future in /root/.pyenv/versions/3.8.12/envs/lewagon/lib/python3.8/site-packages (from earthengine-api>=0.1.304->geemap==0.17.1) (0.18.2)\n",
      "Requirement already satisfied: httplib2<1dev,>=0.9.2 in /root/.pyenv/versions/3.8.12/envs/lewagon/lib/python3.8/site-packages (from earthengine-api>=0.1.304->geemap==0.17.1) (0.20.4)\n",
      "Requirement already satisfied: jinja2>=2.9 in /root/.pyenv/versions/3.8.12/envs/lewagon/lib/python3.8/site-packages (from folium>=0.11.0->geemap==0.17.1) (3.0.3)\n",
      "Requirement already satisfied: branca>=0.3.0 in /root/.pyenv/versions/3.8.12/envs/lewagon/lib/python3.8/site-packages (from folium>=0.11.0->geemap==0.17.1) (0.5.0)\n",
      "Requirement already satisfied: requests in /root/.pyenv/versions/3.8.12/envs/lewagon/lib/python3.8/site-packages (from folium>=0.11.0->geemap==0.17.1) (2.27.1)\n",
      "Requirement already satisfied: logzero>=1.5.0 in /root/.pyenv/versions/3.8.12/envs/lewagon/lib/python3.8/site-packages (from geeadd>=0.5.1->geemap==0.17.1) (1.7.0)\n",
      "Requirement already satisfied: beautifulsoup4>=4.9.0 in /root/.pyenv/versions/3.8.12/envs/lewagon/lib/python3.8/site-packages (from geeadd>=0.5.1->geemap==0.17.1) (4.10.0)\n",
      "Requirement already satisfied: ipywidgets in /root/.pyenv/versions/3.8.12/envs/lewagon/lib/python3.8/site-packages (from ipyfilechooser>=0.6.0->geemap==0.17.1) (7.6.5)\n",
      "Requirement already satisfied: traittypes<3,>=0.2.1 in /root/.pyenv/versions/3.8.12/envs/lewagon/lib/python3.8/site-packages (from ipyleaflet>=0.17.0->geemap==0.17.1) (0.2.1)\n",
      "Requirement already satisfied: nbclassic~=0.2 in /root/.pyenv/versions/3.8.12/envs/lewagon/lib/python3.8/site-packages (from jupyterlab>=3->geemap==0.17.1) (0.3.4)\n",
      "Requirement already satisfied: jupyterlab-server~=2.3 in /root/.pyenv/versions/3.8.12/envs/lewagon/lib/python3.8/site-packages (from jupyterlab>=3->geemap==0.17.1) (2.10.2)\n",
      "Requirement already satisfied: jupyter-server~=1.4 in /root/.pyenv/versions/3.8.12/envs/lewagon/lib/python3.8/site-packages (from jupyterlab>=3->geemap==0.17.1) (1.13.1)\n",
      "Requirement already satisfied: jupyter-core in /root/.pyenv/versions/3.8.12/envs/lewagon/lib/python3.8/site-packages (from jupyterlab>=3->geemap==0.17.1) (4.9.1)\n",
      "Requirement already satisfied: packaging in /root/.pyenv/versions/3.8.12/envs/lewagon/lib/python3.8/site-packages (from jupyterlab>=3->geemap==0.17.1) (21.3)\n",
      "Requirement already satisfied: tornado>=6.1.0 in /root/.pyenv/versions/3.8.12/envs/lewagon/lib/python3.8/site-packages (from jupyterlab>=3->geemap==0.17.1) (6.1)\n",
      "Requirement already satisfied: ipython in /root/.pyenv/versions/3.8.12/envs/lewagon/lib/python3.8/site-packages (from jupyterlab>=3->geemap==0.17.1) (7.31.0)\n",
      "Requirement already satisfied: plotly>=5.2.2 in /root/.pyenv/versions/3.8.12/envs/lewagon/lib/python3.8/site-packages (from sankee>=0.1.0->geemap==0.17.1) (5.5.0)\n",
      "Requirement already satisfied: whitebox in /root/.pyenv/versions/3.8.12/envs/lewagon/lib/python3.8/site-packages (from whiteboxgui>=0.6.0->geemap==0.17.1) (2.1.4)\n",
      "Requirement already satisfied: traitlets>=4.3.0 in /root/.pyenv/versions/3.8.12/envs/lewagon/lib/python3.8/site-packages (from bqplot->geemap==0.17.1) (5.1.1)\n",
      "Requirement already satisfied: pytz>=2017.3 in /root/.pyenv/versions/3.8.12/envs/lewagon/lib/python3.8/site-packages (from pandas->geemap==0.17.1) (2021.3)\n",
      "Requirement already satisfied: python-dateutil>=2.7.3 in /root/.pyenv/versions/3.8.12/envs/lewagon/lib/python3.8/site-packages (from pandas->geemap==0.17.1) (2.7.5)\n",
      "Requirement already satisfied: filelock in /root/.pyenv/versions/3.8.12/envs/lewagon/lib/python3.8/site-packages (from gdown->geemap==0.17.1) (3.8.0)\n",
      "Requirement already satisfied: tqdm in /root/.pyenv/versions/3.8.12/envs/lewagon/lib/python3.8/site-packages (from gdown->geemap==0.17.1) (4.62.3)\n",
      "Requirement already satisfied: ratelim in /root/.pyenv/versions/3.8.12/envs/lewagon/lib/python3.8/site-packages (from geocoder->geemap==0.17.1) (0.1.6)\n",
      "Requirement already satisfied: click in /root/.pyenv/versions/3.8.12/envs/lewagon/lib/python3.8/site-packages (from geocoder->geemap==0.17.1) (8.0.3)\n",
      "Requirement already satisfied: cycler>=0.10 in /root/.pyenv/versions/3.8.12/envs/lewagon/lib/python3.8/site-packages (from matplotlib->geemap==0.17.1) (0.11.0)\n",
      "Requirement already satisfied: fonttools>=4.22.0 in /root/.pyenv/versions/3.8.12/envs/lewagon/lib/python3.8/site-packages (from matplotlib->geemap==0.17.1) (4.28.5)\n",
      "Requirement already satisfied: kiwisolver>=1.0.1 in /root/.pyenv/versions/3.8.12/envs/lewagon/lib/python3.8/site-packages (from matplotlib->geemap==0.17.1) (1.3.2)\n",
      "Requirement already satisfied: pyparsing>=2.2.1 in /root/.pyenv/versions/3.8.12/envs/lewagon/lib/python3.8/site-packages (from matplotlib->geemap==0.17.1) (3.0.6)\n",
      "Requirement already satisfied: soupsieve>1.2 in /root/.pyenv/versions/3.8.12/envs/lewagon/lib/python3.8/site-packages (from beautifulsoup4>=4.9.0->geeadd>=0.5.1->geemap==0.17.1) (2.3.1)\n"
     ]
    },
    {
     "name": "stdout",
     "output_type": "stream",
     "text": [
      "Requirement already satisfied: google-api-core<3dev,>=1.21.0 in /root/.pyenv/versions/3.8.12/envs/lewagon/lib/python3.8/site-packages (from google-api-python-client<2,>=1.12.1->earthengine-api>=0.1.304->geemap==0.17.1) (2.3.2)\n",
      "Requirement already satisfied: uritemplate<4dev,>=3.0.0 in /root/.pyenv/versions/3.8.12/envs/lewagon/lib/python3.8/site-packages (from google-api-python-client<2,>=1.12.1->earthengine-api>=0.1.304->geemap==0.17.1) (3.0.1)\n",
      "Requirement already satisfied: pyasn1-modules>=0.2.1 in /root/.pyenv/versions/3.8.12/envs/lewagon/lib/python3.8/site-packages (from google-auth>=1.4.1->earthengine-api>=0.1.304->geemap==0.17.1) (0.2.8)\n",
      "Requirement already satisfied: setuptools>=40.3.0 in /root/.pyenv/versions/3.8.12/envs/lewagon/lib/python3.8/site-packages (from google-auth>=1.4.1->earthengine-api>=0.1.304->geemap==0.17.1) (56.0.0)\n",
      "Requirement already satisfied: cachetools<5.0,>=2.0.0 in /root/.pyenv/versions/3.8.12/envs/lewagon/lib/python3.8/site-packages (from google-auth>=1.4.1->earthengine-api>=0.1.304->geemap==0.17.1) (4.2.4)\n",
      "Requirement already satisfied: rsa<5,>=3.1.4 in /root/.pyenv/versions/3.8.12/envs/lewagon/lib/python3.8/site-packages (from google-auth>=1.4.1->earthengine-api>=0.1.304->geemap==0.17.1) (4.8)\n",
      "Requirement already satisfied: nbformat>=4.2.0 in /root/.pyenv/versions/3.8.12/envs/lewagon/lib/python3.8/site-packages (from ipywidgets->ipyfilechooser>=0.6.0->geemap==0.17.1) (5.1.3)\n",
      "Requirement already satisfied: ipykernel>=4.5.1 in /root/.pyenv/versions/3.8.12/envs/lewagon/lib/python3.8/site-packages (from ipywidgets->ipyfilechooser>=0.6.0->geemap==0.17.1) (6.6.1)\n",
      "Requirement already satisfied: widgetsnbextension~=3.5.0 in /root/.pyenv/versions/3.8.12/envs/lewagon/lib/python3.8/site-packages (from ipywidgets->ipyfilechooser>=0.6.0->geemap==0.17.1) (3.5.2)\n",
      "Requirement already satisfied: ipython-genutils~=0.2.0 in /root/.pyenv/versions/3.8.12/envs/lewagon/lib/python3.8/site-packages (from ipywidgets->ipyfilechooser>=0.6.0->geemap==0.17.1) (0.2.0)\n",
      "Requirement already satisfied: jupyterlab-widgets>=1.0.0 in /root/.pyenv/versions/3.8.12/envs/lewagon/lib/python3.8/site-packages (from ipywidgets->ipyfilechooser>=0.6.0->geemap==0.17.1) (1.0.2)\n",
      "Requirement already satisfied: jedi>=0.16 in /root/.pyenv/versions/3.8.12/envs/lewagon/lib/python3.8/site-packages (from ipython->jupyterlab>=3->geemap==0.17.1) (0.18.1)\n",
      "Requirement already satisfied: decorator in /root/.pyenv/versions/3.8.12/envs/lewagon/lib/python3.8/site-packages (from ipython->jupyterlab>=3->geemap==0.17.1) (5.1.0)\n",
      "Requirement already satisfied: pygments in /root/.pyenv/versions/3.8.12/envs/lewagon/lib/python3.8/site-packages (from ipython->jupyterlab>=3->geemap==0.17.1) (2.11.2)\n",
      "Requirement already satisfied: backcall in /root/.pyenv/versions/3.8.12/envs/lewagon/lib/python3.8/site-packages (from ipython->jupyterlab>=3->geemap==0.17.1) (0.2.0)\n",
      "Requirement already satisfied: matplotlib-inline in /root/.pyenv/versions/3.8.12/envs/lewagon/lib/python3.8/site-packages (from ipython->jupyterlab>=3->geemap==0.17.1) (0.1.3)\n",
      "Requirement already satisfied: pickleshare in /root/.pyenv/versions/3.8.12/envs/lewagon/lib/python3.8/site-packages (from ipython->jupyterlab>=3->geemap==0.17.1) (0.7.5)\n",
      "Requirement already satisfied: pexpect>4.3 in /root/.pyenv/versions/3.8.12/envs/lewagon/lib/python3.8/site-packages (from ipython->jupyterlab>=3->geemap==0.17.1) (4.8.0)\n",
      "Requirement already satisfied: prompt-toolkit!=3.0.0,!=3.0.1,<3.1.0,>=2.0.0 in /root/.pyenv/versions/3.8.12/envs/lewagon/lib/python3.8/site-packages (from ipython->jupyterlab>=3->geemap==0.17.1) (3.0.24)\n",
      "Requirement already satisfied: MarkupSafe>=2.0 in /root/.pyenv/versions/3.8.12/envs/lewagon/lib/python3.8/site-packages (from jinja2>=2.9->folium>=0.11.0->geemap==0.17.1) (2.0.1)\n",
      "Requirement already satisfied: Send2Trash in /root/.pyenv/versions/3.8.12/envs/lewagon/lib/python3.8/site-packages (from jupyter-server~=1.4->jupyterlab>=3->geemap==0.17.1) (1.8.0)\n",
      "Requirement already satisfied: jupyter-client>=6.1.1 in /root/.pyenv/versions/3.8.12/envs/lewagon/lib/python3.8/site-packages (from jupyter-server~=1.4->jupyterlab>=3->geemap==0.17.1) (7.1.0)\n",
      "Requirement already satisfied: websocket-client in /root/.pyenv/versions/3.8.12/envs/lewagon/lib/python3.8/site-packages (from jupyter-server~=1.4->jupyterlab>=3->geemap==0.17.1) (1.2.3)\n",
      "Requirement already satisfied: anyio<4,>=3.1.0 in /root/.pyenv/versions/3.8.12/envs/lewagon/lib/python3.8/site-packages (from jupyter-server~=1.4->jupyterlab>=3->geemap==0.17.1) (3.4.0)\n",
      "Requirement already satisfied: pyzmq>=17 in /root/.pyenv/versions/3.8.12/envs/lewagon/lib/python3.8/site-packages (from jupyter-server~=1.4->jupyterlab>=3->geemap==0.17.1) (22.3.0)\n",
      "Requirement already satisfied: terminado>=0.8.3 in /root/.pyenv/versions/3.8.12/envs/lewagon/lib/python3.8/site-packages (from jupyter-server~=1.4->jupyterlab>=3->geemap==0.17.1) (0.12.1)\n",
      "Requirement already satisfied: nbconvert in /root/.pyenv/versions/3.8.12/envs/lewagon/lib/python3.8/site-packages (from jupyter-server~=1.4->jupyterlab>=3->geemap==0.17.1) (6.4.0)\n",
      "Requirement already satisfied: argon2-cffi in /root/.pyenv/versions/3.8.12/envs/lewagon/lib/python3.8/site-packages (from jupyter-server~=1.4->jupyterlab>=3->geemap==0.17.1) (21.3.0)\n",
      "Requirement already satisfied: prometheus-client in /root/.pyenv/versions/3.8.12/envs/lewagon/lib/python3.8/site-packages (from jupyter-server~=1.4->jupyterlab>=3->geemap==0.17.1) (0.12.0)\n",
      "Requirement already satisfied: entrypoints>=0.2.2 in /root/.pyenv/versions/3.8.12/envs/lewagon/lib/python3.8/site-packages (from jupyterlab-server~=2.3->jupyterlab>=3->geemap==0.17.1) (0.3)\n",
      "Requirement already satisfied: babel in /root/.pyenv/versions/3.8.12/envs/lewagon/lib/python3.8/site-packages (from jupyterlab-server~=2.3->jupyterlab>=3->geemap==0.17.1) (2.9.1)\n",
      "Requirement already satisfied: json5 in /root/.pyenv/versions/3.8.12/envs/lewagon/lib/python3.8/site-packages (from jupyterlab-server~=2.3->jupyterlab>=3->geemap==0.17.1) (0.9.6)\n",
      "Requirement already satisfied: jsonschema>=3.0.1 in /root/.pyenv/versions/3.8.12/envs/lewagon/lib/python3.8/site-packages (from jupyterlab-server~=2.3->jupyterlab>=3->geemap==0.17.1) (4.3.3)\n",
      "Requirement already satisfied: notebook<7 in /root/.pyenv/versions/3.8.12/envs/lewagon/lib/python3.8/site-packages (from nbclassic~=0.2->jupyterlab>=3->geemap==0.17.1) (6.4.6)\n",
      "Requirement already satisfied: tenacity>=6.2.0 in /root/.pyenv/versions/3.8.12/envs/lewagon/lib/python3.8/site-packages (from plotly>=5.2.2->sankee>=0.1.0->geemap==0.17.1) (8.0.1)\n",
      "Requirement already satisfied: charset-normalizer~=2.0.0 in /root/.pyenv/versions/3.8.12/envs/lewagon/lib/python3.8/site-packages (from requests->folium>=0.11.0->geemap==0.17.1) (2.0.10)\n",
      "Requirement already satisfied: idna<4,>=2.5 in /root/.pyenv/versions/3.8.12/envs/lewagon/lib/python3.8/site-packages (from requests->folium>=0.11.0->geemap==0.17.1) (3.3)\n",
      "Requirement already satisfied: urllib3<1.27,>=1.21.1 in /root/.pyenv/versions/3.8.12/envs/lewagon/lib/python3.8/site-packages (from requests->folium>=0.11.0->geemap==0.17.1) (1.26.7)\n",
      "Requirement already satisfied: certifi>=2017.4.17 in /root/.pyenv/versions/3.8.12/envs/lewagon/lib/python3.8/site-packages (from requests->folium>=0.11.0->geemap==0.17.1) (2021.10.8)\n",
      "Requirement already satisfied: google-cloud-core<3.0dev,>=2.3.0 in /root/.pyenv/versions/3.8.12/envs/lewagon/lib/python3.8/site-packages (from google-cloud-storage->earthengine-api>=0.1.304->geemap==0.17.1) (2.3.0)\n",
      "Requirement already satisfied: google-resumable-media>=2.3.2 in /root/.pyenv/versions/3.8.12/envs/lewagon/lib/python3.8/site-packages (from google-cloud-storage->earthengine-api>=0.1.304->geemap==0.17.1) (2.3.2)\n",
      "Requirement already satisfied: protobuf in /root/.pyenv/versions/3.8.12/envs/lewagon/lib/python3.8/site-packages (from google-cloud-storage->earthengine-api>=0.1.304->geemap==0.17.1) (3.19.1)\n",
      "Requirement already satisfied: PySocks!=1.5.7,>=1.5.6 in /root/.pyenv/versions/3.8.12/envs/lewagon/lib/python3.8/site-packages (from requests->folium>=0.11.0->geemap==0.17.1) (1.7.1)\n",
      "Requirement already satisfied: sniffio>=1.1 in /root/.pyenv/versions/3.8.12/envs/lewagon/lib/python3.8/site-packages (from anyio<4,>=3.1.0->jupyter-server~=1.4->jupyterlab>=3->geemap==0.17.1) (1.2.0)\n",
      "Requirement already satisfied: googleapis-common-protos<2.0dev,>=1.52.0 in /root/.pyenv/versions/3.8.12/envs/lewagon/lib/python3.8/site-packages (from google-api-core<3dev,>=1.21.0->google-api-python-client<2,>=1.12.1->earthengine-api>=0.1.304->geemap==0.17.1) (1.54.0)\n",
      "Requirement already satisfied: google-crc32c<2.0dev,>=1.0 in /root/.pyenv/versions/3.8.12/envs/lewagon/lib/python3.8/site-packages (from google-resumable-media>=2.3.2->google-cloud-storage->earthengine-api>=0.1.304->geemap==0.17.1) (1.3.0)\n",
      "Requirement already satisfied: debugpy<2.0,>=1.0.0 in /root/.pyenv/versions/3.8.12/envs/lewagon/lib/python3.8/site-packages (from ipykernel>=4.5.1->ipywidgets->ipyfilechooser>=0.6.0->geemap==0.17.1) (1.5.1)\n",
      "Requirement already satisfied: nest-asyncio in /root/.pyenv/versions/3.8.12/envs/lewagon/lib/python3.8/site-packages (from ipykernel>=4.5.1->ipywidgets->ipyfilechooser>=0.6.0->geemap==0.17.1) (1.5.4)\n"
     ]
    },
    {
     "name": "stdout",
     "output_type": "stream",
     "text": [
      "Requirement already satisfied: parso<0.9.0,>=0.8.0 in /root/.pyenv/versions/3.8.12/envs/lewagon/lib/python3.8/site-packages (from jedi>=0.16->ipython->jupyterlab>=3->geemap==0.17.1) (0.8.3)\n",
      "Requirement already satisfied: pyrsistent!=0.17.0,!=0.17.1,!=0.17.2,>=0.14.0 in /root/.pyenv/versions/3.8.12/envs/lewagon/lib/python3.8/site-packages (from jsonschema>=3.0.1->jupyterlab-server~=2.3->jupyterlab>=3->geemap==0.17.1) (0.18.0)\n",
      "Requirement already satisfied: importlib-resources>=1.4.0 in /root/.pyenv/versions/3.8.12/envs/lewagon/lib/python3.8/site-packages (from jsonschema>=3.0.1->jupyterlab-server~=2.3->jupyterlab>=3->geemap==0.17.1) (5.4.0)\n",
      "Requirement already satisfied: attrs>=17.4.0 in /root/.pyenv/versions/3.8.12/envs/lewagon/lib/python3.8/site-packages (from jsonschema>=3.0.1->jupyterlab-server~=2.3->jupyterlab>=3->geemap==0.17.1) (21.4.0)\n",
      "Requirement already satisfied: ptyprocess>=0.5 in /root/.pyenv/versions/3.8.12/envs/lewagon/lib/python3.8/site-packages (from pexpect>4.3->ipython->jupyterlab>=3->geemap==0.17.1) (0.7.0)\n",
      "Requirement already satisfied: wcwidth in /root/.pyenv/versions/3.8.12/envs/lewagon/lib/python3.8/site-packages (from prompt-toolkit!=3.0.0,!=3.0.1,<3.1.0,>=2.0.0->ipython->jupyterlab>=3->geemap==0.17.1) (0.2.5)\n",
      "Requirement already satisfied: pyasn1<0.5.0,>=0.4.6 in /root/.pyenv/versions/3.8.12/envs/lewagon/lib/python3.8/site-packages (from pyasn1-modules>=0.2.1->google-auth>=1.4.1->earthengine-api>=0.1.304->geemap==0.17.1) (0.4.8)\n",
      "Requirement already satisfied: argon2-cffi-bindings in /root/.pyenv/versions/3.8.12/envs/lewagon/lib/python3.8/site-packages (from argon2-cffi->jupyter-server~=1.4->jupyterlab>=3->geemap==0.17.1) (21.2.0)\n",
      "Requirement already satisfied: jupyterlab-pygments in /root/.pyenv/versions/3.8.12/envs/lewagon/lib/python3.8/site-packages (from nbconvert->jupyter-server~=1.4->jupyterlab>=3->geemap==0.17.1) (0.1.2)\n",
      "Requirement already satisfied: testpath in /root/.pyenv/versions/3.8.12/envs/lewagon/lib/python3.8/site-packages (from nbconvert->jupyter-server~=1.4->jupyterlab>=3->geemap==0.17.1) (0.5.0)\n",
      "Requirement already satisfied: nbclient<0.6.0,>=0.5.0 in /root/.pyenv/versions/3.8.12/envs/lewagon/lib/python3.8/site-packages (from nbconvert->jupyter-server~=1.4->jupyterlab>=3->geemap==0.17.1) (0.5.9)\n",
      "Requirement already satisfied: defusedxml in /root/.pyenv/versions/3.8.12/envs/lewagon/lib/python3.8/site-packages (from nbconvert->jupyter-server~=1.4->jupyterlab>=3->geemap==0.17.1) (0.7.1)\n",
      "Requirement already satisfied: mistune<2,>=0.8.1 in /root/.pyenv/versions/3.8.12/envs/lewagon/lib/python3.8/site-packages (from nbconvert->jupyter-server~=1.4->jupyterlab>=3->geemap==0.17.1) (0.8.4)\n",
      "Requirement already satisfied: bleach in /root/.pyenv/versions/3.8.12/envs/lewagon/lib/python3.8/site-packages (from nbconvert->jupyter-server~=1.4->jupyterlab>=3->geemap==0.17.1) (4.1.0)\n",
      "Requirement already satisfied: pandocfilters>=1.4.1 in /root/.pyenv/versions/3.8.12/envs/lewagon/lib/python3.8/site-packages (from nbconvert->jupyter-server~=1.4->jupyterlab>=3->geemap==0.17.1) (1.5.0)\n",
      "Requirement already satisfied: zipp>=3.1.0 in /root/.pyenv/versions/3.8.12/envs/lewagon/lib/python3.8/site-packages (from importlib-resources>=1.4.0->jsonschema>=3.0.1->jupyterlab-server~=2.3->jupyterlab>=3->geemap==0.17.1) (3.7.0)\n",
      "Requirement already satisfied: cffi>=1.0.1 in /root/.pyenv/versions/3.8.12/envs/lewagon/lib/python3.8/site-packages (from argon2-cffi-bindings->argon2-cffi->jupyter-server~=1.4->jupyterlab>=3->geemap==0.17.1) (1.15.0)\n",
      "Requirement already satisfied: webencodings in /root/.pyenv/versions/3.8.12/envs/lewagon/lib/python3.8/site-packages (from bleach->nbconvert->jupyter-server~=1.4->jupyterlab>=3->geemap==0.17.1) (0.5.1)\n",
      "Requirement already satisfied: pycparser in /root/.pyenv/versions/3.8.12/envs/lewagon/lib/python3.8/site-packages (from cffi>=1.0.1->argon2-cffi-bindings->argon2-cffi->jupyter-server~=1.4->jupyterlab>=3->geemap==0.17.1) (2.21)\n",
      "Building wheels for collected packages: geemap\n",
      "  Building wheel for geemap (setup.py): started\n",
      "  Building wheel for geemap (setup.py): finished with status 'done'\n",
      "  Created wheel for geemap: filename=geemap-0.17.1-py2.py3-none-any.whl size=2105255 sha256=ded9f50241821b077b17ef31817bdb3ef56a36247d34f8419b0dea0b6c3e7770\n",
      "  Stored in directory: /root/.cache/pip/wheels/6e/bc/06/465ec9e16b8a05e0ff75e38e7fc1d055bc2a209dfb650c6552\n",
      "Successfully built geemap\n",
      "Installing collected packages: geemap\n",
      "  Attempting uninstall: geemap\n",
      "    Found existing installation: geemap 0.16.7\n",
      "    Uninstalling geemap-0.16.7:\n",
      "      Successfully uninstalled geemap-0.16.7\n",
      "Successfully installed geemap-0.17.1\n",
      "\n",
      "Please comment out 'geemap.update_package()' and restart the kernel to take effect:\n",
      "Jupyter menu -> Kernel -> Restart & Clear Output\n"
     ]
    },
    {
     "name": "stderr",
     "output_type": "stream",
     "text": [
      "WARNING: There was an error checking the latest version of pip.\n"
     ]
    }
   ],
   "source": [
    "# import geemap\n",
    "# geemap.update_package()"
   ]
  },
  {
   "cell_type": "markdown",
   "metadata": {},
   "source": [
    "# Interactive extraction of pixel values and interactive region reduction"
   ]
  },
  {
   "cell_type": "markdown",
   "metadata": {},
   "source": [
    "## Interactive extraction of pixel values"
   ]
  },
  {
   "cell_type": "markdown",
   "metadata": {},
   "source": [
    "### Import libraries"
   ]
  },
  {
   "cell_type": "code",
   "execution_count": 4,
   "metadata": {},
   "outputs": [],
   "source": [
    "import os\n",
    "import ee\n",
    "import geemap"
   ]
  },
  {
   "cell_type": "markdown",
   "metadata": {},
   "source": [
    "### Create an interactive map"
   ]
  },
  {
   "cell_type": "code",
   "execution_count": 5,
   "metadata": {},
   "outputs": [
    {
     "data": {
      "application/vnd.jupyter.widget-view+json": {
       "model_id": "a115b9e5b6fe4a03b908b126629bc17c",
       "version_major": 2,
       "version_minor": 0
      },
      "text/plain": [
       "Map(center=[20, 0], controls=(WidgetControl(options=['position', 'transparent_bg'], widget=HBox(children=(Togg…"
      ]
     },
     "metadata": {},
     "output_type": "display_data"
    },
    {
     "ename": "AttributeError",
     "evalue": "'MarkerCluster' object has no attribute 'opacity'",
     "output_type": "error",
     "traceback": [
      "\u001b[0;31m---------------------------------------------------------------------------\u001b[0m",
      "\u001b[0;31mAttributeError\u001b[0m                            Traceback (most recent call last)",
      "\u001b[0;32m~/.pyenv/versions/3.8.12/envs/lewagon/lib/python3.8/site-packages/ipywidgets/widgets/widget.py\u001b[0m in \u001b[0;36m_handle_msg\u001b[0;34m(self, msg)\u001b[0m\n\u001b[1;32m    674\u001b[0m                 \u001b[0;32mif\u001b[0m \u001b[0;34m'buffer_paths'\u001b[0m \u001b[0;32min\u001b[0m \u001b[0mdata\u001b[0m\u001b[0;34m:\u001b[0m\u001b[0;34m\u001b[0m\u001b[0;34m\u001b[0m\u001b[0m\n\u001b[1;32m    675\u001b[0m                     \u001b[0m_put_buffers\u001b[0m\u001b[0;34m(\u001b[0m\u001b[0mstate\u001b[0m\u001b[0;34m,\u001b[0m \u001b[0mdata\u001b[0m\u001b[0;34m[\u001b[0m\u001b[0;34m'buffer_paths'\u001b[0m\u001b[0;34m]\u001b[0m\u001b[0;34m,\u001b[0m \u001b[0mmsg\u001b[0m\u001b[0;34m[\u001b[0m\u001b[0;34m'buffers'\u001b[0m\u001b[0;34m]\u001b[0m\u001b[0;34m)\u001b[0m\u001b[0;34m\u001b[0m\u001b[0;34m\u001b[0m\u001b[0m\n\u001b[0;32m--> 676\u001b[0;31m                 \u001b[0mself\u001b[0m\u001b[0;34m.\u001b[0m\u001b[0mset_state\u001b[0m\u001b[0;34m(\u001b[0m\u001b[0mstate\u001b[0m\u001b[0;34m)\u001b[0m\u001b[0;34m\u001b[0m\u001b[0;34m\u001b[0m\u001b[0m\n\u001b[0m\u001b[1;32m    677\u001b[0m \u001b[0;34m\u001b[0m\u001b[0m\n\u001b[1;32m    678\u001b[0m         \u001b[0;31m# Handle a state request.\u001b[0m\u001b[0;34m\u001b[0m\u001b[0;34m\u001b[0m\u001b[0;34m\u001b[0m\u001b[0m\n",
      "\u001b[0;32m~/.pyenv/versions/3.8.12/envs/lewagon/lib/python3.8/site-packages/ipywidgets/widgets/widget.py\u001b[0m in \u001b[0;36mset_state\u001b[0;34m(self, sync_data)\u001b[0m\n\u001b[1;32m    543\u001b[0m                     from_json = self.trait_metadata(name, 'from_json',\n\u001b[1;32m    544\u001b[0m                                                     self._trait_from_json)\n\u001b[0;32m--> 545\u001b[0;31m                     \u001b[0mself\u001b[0m\u001b[0;34m.\u001b[0m\u001b[0mset_trait\u001b[0m\u001b[0;34m(\u001b[0m\u001b[0mname\u001b[0m\u001b[0;34m,\u001b[0m \u001b[0mfrom_json\u001b[0m\u001b[0;34m(\u001b[0m\u001b[0msync_data\u001b[0m\u001b[0;34m[\u001b[0m\u001b[0mname\u001b[0m\u001b[0;34m]\u001b[0m\u001b[0;34m,\u001b[0m \u001b[0mself\u001b[0m\u001b[0;34m)\u001b[0m\u001b[0;34m)\u001b[0m\u001b[0;34m\u001b[0m\u001b[0;34m\u001b[0m\u001b[0m\n\u001b[0m\u001b[1;32m    546\u001b[0m \u001b[0;34m\u001b[0m\u001b[0m\n\u001b[1;32m    547\u001b[0m     \u001b[0;32mdef\u001b[0m \u001b[0msend\u001b[0m\u001b[0;34m(\u001b[0m\u001b[0mself\u001b[0m\u001b[0;34m,\u001b[0m \u001b[0mcontent\u001b[0m\u001b[0;34m,\u001b[0m \u001b[0mbuffers\u001b[0m\u001b[0;34m=\u001b[0m\u001b[0;32mNone\u001b[0m\u001b[0;34m)\u001b[0m\u001b[0;34m:\u001b[0m\u001b[0;34m\u001b[0m\u001b[0;34m\u001b[0m\u001b[0m\n",
      "\u001b[0;32m~/.pyenv/versions/3.8.12/lib/python3.8/contextlib.py\u001b[0m in \u001b[0;36m__exit__\u001b[0;34m(self, type, value, traceback)\u001b[0m\n\u001b[1;32m    118\u001b[0m         \u001b[0;32mif\u001b[0m \u001b[0mtype\u001b[0m \u001b[0;32mis\u001b[0m \u001b[0;32mNone\u001b[0m\u001b[0;34m:\u001b[0m\u001b[0;34m\u001b[0m\u001b[0;34m\u001b[0m\u001b[0m\n\u001b[1;32m    119\u001b[0m             \u001b[0;32mtry\u001b[0m\u001b[0;34m:\u001b[0m\u001b[0;34m\u001b[0m\u001b[0;34m\u001b[0m\u001b[0m\n\u001b[0;32m--> 120\u001b[0;31m                 \u001b[0mnext\u001b[0m\u001b[0;34m(\u001b[0m\u001b[0mself\u001b[0m\u001b[0;34m.\u001b[0m\u001b[0mgen\u001b[0m\u001b[0;34m)\u001b[0m\u001b[0;34m\u001b[0m\u001b[0;34m\u001b[0m\u001b[0m\n\u001b[0m\u001b[1;32m    121\u001b[0m             \u001b[0;32mexcept\u001b[0m \u001b[0mStopIteration\u001b[0m\u001b[0;34m:\u001b[0m\u001b[0;34m\u001b[0m\u001b[0;34m\u001b[0m\u001b[0m\n\u001b[1;32m    122\u001b[0m                 \u001b[0;32mreturn\u001b[0m \u001b[0;32mFalse\u001b[0m\u001b[0;34m\u001b[0m\u001b[0;34m\u001b[0m\u001b[0m\n",
      "\u001b[0;32m~/.pyenv/versions/3.8.12/envs/lewagon/lib/python3.8/site-packages/traitlets/traitlets.py\u001b[0m in \u001b[0;36mhold_trait_notifications\u001b[0;34m(self)\u001b[0m\n\u001b[1;32m   1214\u001b[0m                 \u001b[0;32mfor\u001b[0m \u001b[0mchanges\u001b[0m \u001b[0;32min\u001b[0m \u001b[0mcache\u001b[0m\u001b[0;34m.\u001b[0m\u001b[0mvalues\u001b[0m\u001b[0;34m(\u001b[0m\u001b[0;34m)\u001b[0m\u001b[0;34m:\u001b[0m\u001b[0;34m\u001b[0m\u001b[0;34m\u001b[0m\u001b[0m\n\u001b[1;32m   1215\u001b[0m                     \u001b[0;32mfor\u001b[0m \u001b[0mchange\u001b[0m \u001b[0;32min\u001b[0m \u001b[0mchanges\u001b[0m\u001b[0;34m:\u001b[0m\u001b[0;34m\u001b[0m\u001b[0;34m\u001b[0m\u001b[0m\n\u001b[0;32m-> 1216\u001b[0;31m                         \u001b[0mself\u001b[0m\u001b[0;34m.\u001b[0m\u001b[0mnotify_change\u001b[0m\u001b[0;34m(\u001b[0m\u001b[0mchange\u001b[0m\u001b[0;34m)\u001b[0m\u001b[0;34m\u001b[0m\u001b[0;34m\u001b[0m\u001b[0m\n\u001b[0m\u001b[1;32m   1217\u001b[0m \u001b[0;34m\u001b[0m\u001b[0m\n\u001b[1;32m   1218\u001b[0m     \u001b[0;32mdef\u001b[0m \u001b[0m_notify_trait\u001b[0m\u001b[0;34m(\u001b[0m\u001b[0mself\u001b[0m\u001b[0;34m,\u001b[0m \u001b[0mname\u001b[0m\u001b[0;34m,\u001b[0m \u001b[0mold_value\u001b[0m\u001b[0;34m,\u001b[0m \u001b[0mnew_value\u001b[0m\u001b[0;34m)\u001b[0m\u001b[0;34m:\u001b[0m\u001b[0;34m\u001b[0m\u001b[0;34m\u001b[0m\u001b[0m\n",
      "\u001b[0;32m~/.pyenv/versions/3.8.12/envs/lewagon/lib/python3.8/site-packages/ipywidgets/widgets/widget.py\u001b[0m in \u001b[0;36mnotify_change\u001b[0;34m(self, change)\u001b[0m\n\u001b[1;32m    604\u001b[0m                 \u001b[0;31m# Send new state to front-end\u001b[0m\u001b[0;34m\u001b[0m\u001b[0;34m\u001b[0m\u001b[0;34m\u001b[0m\u001b[0m\n\u001b[1;32m    605\u001b[0m                 \u001b[0mself\u001b[0m\u001b[0;34m.\u001b[0m\u001b[0msend_state\u001b[0m\u001b[0;34m(\u001b[0m\u001b[0mkey\u001b[0m\u001b[0;34m=\u001b[0m\u001b[0mname\u001b[0m\u001b[0;34m)\u001b[0m\u001b[0;34m\u001b[0m\u001b[0;34m\u001b[0m\u001b[0m\n\u001b[0;32m--> 606\u001b[0;31m         \u001b[0msuper\u001b[0m\u001b[0;34m(\u001b[0m\u001b[0mWidget\u001b[0m\u001b[0;34m,\u001b[0m \u001b[0mself\u001b[0m\u001b[0;34m)\u001b[0m\u001b[0;34m.\u001b[0m\u001b[0mnotify_change\u001b[0m\u001b[0;34m(\u001b[0m\u001b[0mchange\u001b[0m\u001b[0;34m)\u001b[0m\u001b[0;34m\u001b[0m\u001b[0;34m\u001b[0m\u001b[0m\n\u001b[0m\u001b[1;32m    607\u001b[0m \u001b[0;34m\u001b[0m\u001b[0m\n\u001b[1;32m    608\u001b[0m     \u001b[0;32mdef\u001b[0m \u001b[0m__repr__\u001b[0m\u001b[0;34m(\u001b[0m\u001b[0mself\u001b[0m\u001b[0;34m)\u001b[0m\u001b[0;34m:\u001b[0m\u001b[0;34m\u001b[0m\u001b[0;34m\u001b[0m\u001b[0m\n",
      "\u001b[0;32m~/.pyenv/versions/3.8.12/envs/lewagon/lib/python3.8/site-packages/traitlets/traitlets.py\u001b[0m in \u001b[0;36mnotify_change\u001b[0;34m(self, change)\u001b[0m\n\u001b[1;32m   1227\u001b[0m     \u001b[0;32mdef\u001b[0m \u001b[0mnotify_change\u001b[0m\u001b[0;34m(\u001b[0m\u001b[0mself\u001b[0m\u001b[0;34m,\u001b[0m \u001b[0mchange\u001b[0m\u001b[0;34m)\u001b[0m\u001b[0;34m:\u001b[0m\u001b[0;34m\u001b[0m\u001b[0;34m\u001b[0m\u001b[0m\n\u001b[1;32m   1228\u001b[0m         \u001b[0;34m\"\"\"Notify observers of a change event\"\"\"\u001b[0m\u001b[0;34m\u001b[0m\u001b[0;34m\u001b[0m\u001b[0m\n\u001b[0;32m-> 1229\u001b[0;31m         \u001b[0;32mreturn\u001b[0m \u001b[0mself\u001b[0m\u001b[0;34m.\u001b[0m\u001b[0m_notify_observers\u001b[0m\u001b[0;34m(\u001b[0m\u001b[0mchange\u001b[0m\u001b[0;34m)\u001b[0m\u001b[0;34m\u001b[0m\u001b[0;34m\u001b[0m\u001b[0m\n\u001b[0m\u001b[1;32m   1230\u001b[0m \u001b[0;34m\u001b[0m\u001b[0m\n\u001b[1;32m   1231\u001b[0m     \u001b[0;32mdef\u001b[0m \u001b[0m_notify_observers\u001b[0m\u001b[0;34m(\u001b[0m\u001b[0mself\u001b[0m\u001b[0;34m,\u001b[0m \u001b[0mevent\u001b[0m\u001b[0;34m)\u001b[0m\u001b[0;34m:\u001b[0m\u001b[0;34m\u001b[0m\u001b[0;34m\u001b[0m\u001b[0m\n",
      "\u001b[0;32m~/.pyenv/versions/3.8.12/envs/lewagon/lib/python3.8/site-packages/traitlets/traitlets.py\u001b[0m in \u001b[0;36m_notify_observers\u001b[0;34m(self, event)\u001b[0m\n\u001b[1;32m   1264\u001b[0m                 \u001b[0mc\u001b[0m \u001b[0;34m=\u001b[0m \u001b[0mgetattr\u001b[0m\u001b[0;34m(\u001b[0m\u001b[0mself\u001b[0m\u001b[0;34m,\u001b[0m \u001b[0mc\u001b[0m\u001b[0;34m.\u001b[0m\u001b[0mname\u001b[0m\u001b[0;34m)\u001b[0m\u001b[0;34m\u001b[0m\u001b[0;34m\u001b[0m\u001b[0m\n\u001b[1;32m   1265\u001b[0m \u001b[0;34m\u001b[0m\u001b[0m\n\u001b[0;32m-> 1266\u001b[0;31m             \u001b[0mc\u001b[0m\u001b[0;34m(\u001b[0m\u001b[0mevent\u001b[0m\u001b[0;34m)\u001b[0m\u001b[0;34m\u001b[0m\u001b[0;34m\u001b[0m\u001b[0m\n\u001b[0m\u001b[1;32m   1267\u001b[0m \u001b[0;34m\u001b[0m\u001b[0m\n\u001b[1;32m   1268\u001b[0m     \u001b[0;32mdef\u001b[0m \u001b[0m_add_notifiers\u001b[0m\u001b[0;34m(\u001b[0m\u001b[0mself\u001b[0m\u001b[0;34m,\u001b[0m \u001b[0mhandler\u001b[0m\u001b[0;34m,\u001b[0m \u001b[0mname\u001b[0m\u001b[0;34m,\u001b[0m \u001b[0mtype\u001b[0m\u001b[0;34m)\u001b[0m\u001b[0;34m:\u001b[0m\u001b[0;34m\u001b[0m\u001b[0;34m\u001b[0m\u001b[0m\n",
      "\u001b[0;32m~/.pyenv/versions/3.8.12/envs/lewagon/lib/python3.8/site-packages/geemap/geemap.py\u001b[0m in \u001b[0;36mlayers_btn_click\u001b[0;34m(change)\u001b[0m\n\u001b[1;32m   1096\u001b[0m                         \u001b[0mlayout\u001b[0m\u001b[0;34m=\u001b[0m\u001b[0mwidgets\u001b[0m\u001b[0;34m.\u001b[0m\u001b[0mLayout\u001b[0m\u001b[0;34m(\u001b[0m\u001b[0mheight\u001b[0m\u001b[0;34m=\u001b[0m\u001b[0;34m\"18px\"\u001b[0m\u001b[0;34m)\u001b[0m\u001b[0;34m,\u001b[0m\u001b[0;34m\u001b[0m\u001b[0;34m\u001b[0m\u001b[0m\n\u001b[1;32m   1097\u001b[0m                     )\n\u001b[0;32m-> 1098\u001b[0;31m                     \u001b[0mlayer_chk\u001b[0m\u001b[0;34m.\u001b[0m\u001b[0mlayout\u001b[0m\u001b[0;34m.\u001b[0m\u001b[0mwidth\u001b[0m \u001b[0;34m=\u001b[0m \u001b[0;34m\"25ex\"\u001b[0m\u001b[0;34m\u001b[0m\u001b[0;34m\u001b[0m\u001b[0m\n\u001b[0m\u001b[1;32m   1099\u001b[0m \u001b[0;34m\u001b[0m\u001b[0m\n\u001b[1;32m   1100\u001b[0m                     \u001b[0;32mif\u001b[0m \u001b[0mlayer\u001b[0m \u001b[0;32min\u001b[0m \u001b[0mself\u001b[0m\u001b[0;34m.\u001b[0m\u001b[0mgeojson_layers\u001b[0m\u001b[0;34m:\u001b[0m\u001b[0;34m\u001b[0m\u001b[0;34m\u001b[0m\u001b[0m\n",
      "\u001b[0;31mAttributeError\u001b[0m: 'MarkerCluster' object has no attribute 'opacity'"
     ]
    },
    {
     "ename": "AttributeError",
     "evalue": "'MarkerCluster' object has no attribute 'opacity'",
     "output_type": "error",
     "traceback": [
      "\u001b[0;31m---------------------------------------------------------------------------\u001b[0m",
      "\u001b[0;31mAttributeError\u001b[0m                            Traceback (most recent call last)",
      "\u001b[0;32m~/.pyenv/versions/3.8.12/envs/lewagon/lib/python3.8/site-packages/ipywidgets/widgets/widget.py\u001b[0m in \u001b[0;36m_handle_msg\u001b[0;34m(self, msg)\u001b[0m\n\u001b[1;32m    674\u001b[0m                 \u001b[0;32mif\u001b[0m \u001b[0;34m'buffer_paths'\u001b[0m \u001b[0;32min\u001b[0m \u001b[0mdata\u001b[0m\u001b[0;34m:\u001b[0m\u001b[0;34m\u001b[0m\u001b[0;34m\u001b[0m\u001b[0m\n\u001b[1;32m    675\u001b[0m                     \u001b[0m_put_buffers\u001b[0m\u001b[0;34m(\u001b[0m\u001b[0mstate\u001b[0m\u001b[0;34m,\u001b[0m \u001b[0mdata\u001b[0m\u001b[0;34m[\u001b[0m\u001b[0;34m'buffer_paths'\u001b[0m\u001b[0;34m]\u001b[0m\u001b[0;34m,\u001b[0m \u001b[0mmsg\u001b[0m\u001b[0;34m[\u001b[0m\u001b[0;34m'buffers'\u001b[0m\u001b[0;34m]\u001b[0m\u001b[0;34m)\u001b[0m\u001b[0;34m\u001b[0m\u001b[0;34m\u001b[0m\u001b[0m\n\u001b[0;32m--> 676\u001b[0;31m                 \u001b[0mself\u001b[0m\u001b[0;34m.\u001b[0m\u001b[0mset_state\u001b[0m\u001b[0;34m(\u001b[0m\u001b[0mstate\u001b[0m\u001b[0;34m)\u001b[0m\u001b[0;34m\u001b[0m\u001b[0;34m\u001b[0m\u001b[0m\n\u001b[0m\u001b[1;32m    677\u001b[0m \u001b[0;34m\u001b[0m\u001b[0m\n\u001b[1;32m    678\u001b[0m         \u001b[0;31m# Handle a state request.\u001b[0m\u001b[0;34m\u001b[0m\u001b[0;34m\u001b[0m\u001b[0;34m\u001b[0m\u001b[0m\n",
      "\u001b[0;32m~/.pyenv/versions/3.8.12/envs/lewagon/lib/python3.8/site-packages/ipywidgets/widgets/widget.py\u001b[0m in \u001b[0;36mset_state\u001b[0;34m(self, sync_data)\u001b[0m\n\u001b[1;32m    543\u001b[0m                     from_json = self.trait_metadata(name, 'from_json',\n\u001b[1;32m    544\u001b[0m                                                     self._trait_from_json)\n\u001b[0;32m--> 545\u001b[0;31m                     \u001b[0mself\u001b[0m\u001b[0;34m.\u001b[0m\u001b[0mset_trait\u001b[0m\u001b[0;34m(\u001b[0m\u001b[0mname\u001b[0m\u001b[0;34m,\u001b[0m \u001b[0mfrom_json\u001b[0m\u001b[0;34m(\u001b[0m\u001b[0msync_data\u001b[0m\u001b[0;34m[\u001b[0m\u001b[0mname\u001b[0m\u001b[0;34m]\u001b[0m\u001b[0;34m,\u001b[0m \u001b[0mself\u001b[0m\u001b[0;34m)\u001b[0m\u001b[0;34m)\u001b[0m\u001b[0;34m\u001b[0m\u001b[0;34m\u001b[0m\u001b[0m\n\u001b[0m\u001b[1;32m    546\u001b[0m \u001b[0;34m\u001b[0m\u001b[0m\n\u001b[1;32m    547\u001b[0m     \u001b[0;32mdef\u001b[0m \u001b[0msend\u001b[0m\u001b[0;34m(\u001b[0m\u001b[0mself\u001b[0m\u001b[0;34m,\u001b[0m \u001b[0mcontent\u001b[0m\u001b[0;34m,\u001b[0m \u001b[0mbuffers\u001b[0m\u001b[0;34m=\u001b[0m\u001b[0;32mNone\u001b[0m\u001b[0;34m)\u001b[0m\u001b[0;34m:\u001b[0m\u001b[0;34m\u001b[0m\u001b[0;34m\u001b[0m\u001b[0m\n",
      "\u001b[0;32m~/.pyenv/versions/3.8.12/lib/python3.8/contextlib.py\u001b[0m in \u001b[0;36m__exit__\u001b[0;34m(self, type, value, traceback)\u001b[0m\n\u001b[1;32m    118\u001b[0m         \u001b[0;32mif\u001b[0m \u001b[0mtype\u001b[0m \u001b[0;32mis\u001b[0m \u001b[0;32mNone\u001b[0m\u001b[0;34m:\u001b[0m\u001b[0;34m\u001b[0m\u001b[0;34m\u001b[0m\u001b[0m\n\u001b[1;32m    119\u001b[0m             \u001b[0;32mtry\u001b[0m\u001b[0;34m:\u001b[0m\u001b[0;34m\u001b[0m\u001b[0;34m\u001b[0m\u001b[0m\n\u001b[0;32m--> 120\u001b[0;31m                 \u001b[0mnext\u001b[0m\u001b[0;34m(\u001b[0m\u001b[0mself\u001b[0m\u001b[0;34m.\u001b[0m\u001b[0mgen\u001b[0m\u001b[0;34m)\u001b[0m\u001b[0;34m\u001b[0m\u001b[0;34m\u001b[0m\u001b[0m\n\u001b[0m\u001b[1;32m    121\u001b[0m             \u001b[0;32mexcept\u001b[0m \u001b[0mStopIteration\u001b[0m\u001b[0;34m:\u001b[0m\u001b[0;34m\u001b[0m\u001b[0;34m\u001b[0m\u001b[0m\n\u001b[1;32m    122\u001b[0m                 \u001b[0;32mreturn\u001b[0m \u001b[0;32mFalse\u001b[0m\u001b[0;34m\u001b[0m\u001b[0;34m\u001b[0m\u001b[0m\n",
      "\u001b[0;32m~/.pyenv/versions/3.8.12/envs/lewagon/lib/python3.8/site-packages/traitlets/traitlets.py\u001b[0m in \u001b[0;36mhold_trait_notifications\u001b[0;34m(self)\u001b[0m\n\u001b[1;32m   1214\u001b[0m                 \u001b[0;32mfor\u001b[0m \u001b[0mchanges\u001b[0m \u001b[0;32min\u001b[0m \u001b[0mcache\u001b[0m\u001b[0;34m.\u001b[0m\u001b[0mvalues\u001b[0m\u001b[0;34m(\u001b[0m\u001b[0;34m)\u001b[0m\u001b[0;34m:\u001b[0m\u001b[0;34m\u001b[0m\u001b[0;34m\u001b[0m\u001b[0m\n\u001b[1;32m   1215\u001b[0m                     \u001b[0;32mfor\u001b[0m \u001b[0mchange\u001b[0m \u001b[0;32min\u001b[0m \u001b[0mchanges\u001b[0m\u001b[0;34m:\u001b[0m\u001b[0;34m\u001b[0m\u001b[0;34m\u001b[0m\u001b[0m\n\u001b[0;32m-> 1216\u001b[0;31m                         \u001b[0mself\u001b[0m\u001b[0;34m.\u001b[0m\u001b[0mnotify_change\u001b[0m\u001b[0;34m(\u001b[0m\u001b[0mchange\u001b[0m\u001b[0;34m)\u001b[0m\u001b[0;34m\u001b[0m\u001b[0;34m\u001b[0m\u001b[0m\n\u001b[0m\u001b[1;32m   1217\u001b[0m \u001b[0;34m\u001b[0m\u001b[0m\n\u001b[1;32m   1218\u001b[0m     \u001b[0;32mdef\u001b[0m \u001b[0m_notify_trait\u001b[0m\u001b[0;34m(\u001b[0m\u001b[0mself\u001b[0m\u001b[0;34m,\u001b[0m \u001b[0mname\u001b[0m\u001b[0;34m,\u001b[0m \u001b[0mold_value\u001b[0m\u001b[0;34m,\u001b[0m \u001b[0mnew_value\u001b[0m\u001b[0;34m)\u001b[0m\u001b[0;34m:\u001b[0m\u001b[0;34m\u001b[0m\u001b[0;34m\u001b[0m\u001b[0m\n",
      "\u001b[0;32m~/.pyenv/versions/3.8.12/envs/lewagon/lib/python3.8/site-packages/ipywidgets/widgets/widget.py\u001b[0m in \u001b[0;36mnotify_change\u001b[0;34m(self, change)\u001b[0m\n\u001b[1;32m    604\u001b[0m                 \u001b[0;31m# Send new state to front-end\u001b[0m\u001b[0;34m\u001b[0m\u001b[0;34m\u001b[0m\u001b[0;34m\u001b[0m\u001b[0m\n\u001b[1;32m    605\u001b[0m                 \u001b[0mself\u001b[0m\u001b[0;34m.\u001b[0m\u001b[0msend_state\u001b[0m\u001b[0;34m(\u001b[0m\u001b[0mkey\u001b[0m\u001b[0;34m=\u001b[0m\u001b[0mname\u001b[0m\u001b[0;34m)\u001b[0m\u001b[0;34m\u001b[0m\u001b[0;34m\u001b[0m\u001b[0m\n\u001b[0;32m--> 606\u001b[0;31m         \u001b[0msuper\u001b[0m\u001b[0;34m(\u001b[0m\u001b[0mWidget\u001b[0m\u001b[0;34m,\u001b[0m \u001b[0mself\u001b[0m\u001b[0;34m)\u001b[0m\u001b[0;34m.\u001b[0m\u001b[0mnotify_change\u001b[0m\u001b[0;34m(\u001b[0m\u001b[0mchange\u001b[0m\u001b[0;34m)\u001b[0m\u001b[0;34m\u001b[0m\u001b[0;34m\u001b[0m\u001b[0m\n\u001b[0m\u001b[1;32m    607\u001b[0m \u001b[0;34m\u001b[0m\u001b[0m\n\u001b[1;32m    608\u001b[0m     \u001b[0;32mdef\u001b[0m \u001b[0m__repr__\u001b[0m\u001b[0;34m(\u001b[0m\u001b[0mself\u001b[0m\u001b[0;34m)\u001b[0m\u001b[0;34m:\u001b[0m\u001b[0;34m\u001b[0m\u001b[0;34m\u001b[0m\u001b[0m\n",
      "\u001b[0;32m~/.pyenv/versions/3.8.12/envs/lewagon/lib/python3.8/site-packages/traitlets/traitlets.py\u001b[0m in \u001b[0;36mnotify_change\u001b[0;34m(self, change)\u001b[0m\n\u001b[1;32m   1227\u001b[0m     \u001b[0;32mdef\u001b[0m \u001b[0mnotify_change\u001b[0m\u001b[0;34m(\u001b[0m\u001b[0mself\u001b[0m\u001b[0;34m,\u001b[0m \u001b[0mchange\u001b[0m\u001b[0;34m)\u001b[0m\u001b[0;34m:\u001b[0m\u001b[0;34m\u001b[0m\u001b[0;34m\u001b[0m\u001b[0m\n\u001b[1;32m   1228\u001b[0m         \u001b[0;34m\"\"\"Notify observers of a change event\"\"\"\u001b[0m\u001b[0;34m\u001b[0m\u001b[0;34m\u001b[0m\u001b[0m\n\u001b[0;32m-> 1229\u001b[0;31m         \u001b[0;32mreturn\u001b[0m \u001b[0mself\u001b[0m\u001b[0;34m.\u001b[0m\u001b[0m_notify_observers\u001b[0m\u001b[0;34m(\u001b[0m\u001b[0mchange\u001b[0m\u001b[0;34m)\u001b[0m\u001b[0;34m\u001b[0m\u001b[0;34m\u001b[0m\u001b[0m\n\u001b[0m\u001b[1;32m   1230\u001b[0m \u001b[0;34m\u001b[0m\u001b[0m\n\u001b[1;32m   1231\u001b[0m     \u001b[0;32mdef\u001b[0m \u001b[0m_notify_observers\u001b[0m\u001b[0;34m(\u001b[0m\u001b[0mself\u001b[0m\u001b[0;34m,\u001b[0m \u001b[0mevent\u001b[0m\u001b[0;34m)\u001b[0m\u001b[0;34m:\u001b[0m\u001b[0;34m\u001b[0m\u001b[0;34m\u001b[0m\u001b[0m\n",
      "\u001b[0;32m~/.pyenv/versions/3.8.12/envs/lewagon/lib/python3.8/site-packages/traitlets/traitlets.py\u001b[0m in \u001b[0;36m_notify_observers\u001b[0;34m(self, event)\u001b[0m\n\u001b[1;32m   1264\u001b[0m                 \u001b[0mc\u001b[0m \u001b[0;34m=\u001b[0m \u001b[0mgetattr\u001b[0m\u001b[0;34m(\u001b[0m\u001b[0mself\u001b[0m\u001b[0;34m,\u001b[0m \u001b[0mc\u001b[0m\u001b[0;34m.\u001b[0m\u001b[0mname\u001b[0m\u001b[0;34m)\u001b[0m\u001b[0;34m\u001b[0m\u001b[0;34m\u001b[0m\u001b[0m\n\u001b[1;32m   1265\u001b[0m \u001b[0;34m\u001b[0m\u001b[0m\n\u001b[0;32m-> 1266\u001b[0;31m             \u001b[0mc\u001b[0m\u001b[0;34m(\u001b[0m\u001b[0mevent\u001b[0m\u001b[0;34m)\u001b[0m\u001b[0;34m\u001b[0m\u001b[0;34m\u001b[0m\u001b[0m\n\u001b[0m\u001b[1;32m   1267\u001b[0m \u001b[0;34m\u001b[0m\u001b[0m\n\u001b[1;32m   1268\u001b[0m     \u001b[0;32mdef\u001b[0m \u001b[0m_add_notifiers\u001b[0m\u001b[0;34m(\u001b[0m\u001b[0mself\u001b[0m\u001b[0;34m,\u001b[0m \u001b[0mhandler\u001b[0m\u001b[0;34m,\u001b[0m \u001b[0mname\u001b[0m\u001b[0;34m,\u001b[0m \u001b[0mtype\u001b[0m\u001b[0;34m)\u001b[0m\u001b[0;34m:\u001b[0m\u001b[0;34m\u001b[0m\u001b[0;34m\u001b[0m\u001b[0m\n",
      "\u001b[0;32m~/.pyenv/versions/3.8.12/envs/lewagon/lib/python3.8/site-packages/geemap/geemap.py\u001b[0m in \u001b[0;36mlayers_btn_click\u001b[0;34m(change)\u001b[0m\n\u001b[1;32m   1096\u001b[0m                         \u001b[0mlayout\u001b[0m\u001b[0;34m=\u001b[0m\u001b[0mwidgets\u001b[0m\u001b[0;34m.\u001b[0m\u001b[0mLayout\u001b[0m\u001b[0;34m(\u001b[0m\u001b[0mheight\u001b[0m\u001b[0;34m=\u001b[0m\u001b[0;34m\"18px\"\u001b[0m\u001b[0;34m)\u001b[0m\u001b[0;34m,\u001b[0m\u001b[0;34m\u001b[0m\u001b[0;34m\u001b[0m\u001b[0m\n\u001b[1;32m   1097\u001b[0m                     )\n\u001b[0;32m-> 1098\u001b[0;31m                     \u001b[0mlayer_chk\u001b[0m\u001b[0;34m.\u001b[0m\u001b[0mlayout\u001b[0m\u001b[0;34m.\u001b[0m\u001b[0mwidth\u001b[0m \u001b[0;34m=\u001b[0m \u001b[0;34m\"25ex\"\u001b[0m\u001b[0;34m\u001b[0m\u001b[0;34m\u001b[0m\u001b[0m\n\u001b[0m\u001b[1;32m   1099\u001b[0m \u001b[0;34m\u001b[0m\u001b[0m\n\u001b[1;32m   1100\u001b[0m                     \u001b[0;32mif\u001b[0m \u001b[0mlayer\u001b[0m \u001b[0;32min\u001b[0m \u001b[0mself\u001b[0m\u001b[0;34m.\u001b[0m\u001b[0mgeojson_layers\u001b[0m\u001b[0;34m:\u001b[0m\u001b[0;34m\u001b[0m\u001b[0;34m\u001b[0m\u001b[0m\n",
      "\u001b[0;31mAttributeError\u001b[0m: 'MarkerCluster' object has no attribute 'opacity'"
     ]
    },
    {
     "ename": "AttributeError",
     "evalue": "'MarkerCluster' object has no attribute 'opacity'",
     "output_type": "error",
     "traceback": [
      "\u001b[0;31m---------------------------------------------------------------------------\u001b[0m",
      "\u001b[0;31mAttributeError\u001b[0m                            Traceback (most recent call last)",
      "\u001b[0;32m~/.pyenv/versions/3.8.12/envs/lewagon/lib/python3.8/site-packages/ipywidgets/widgets/widget.py\u001b[0m in \u001b[0;36m_handle_msg\u001b[0;34m(self, msg)\u001b[0m\n\u001b[1;32m    674\u001b[0m                 \u001b[0;32mif\u001b[0m \u001b[0;34m'buffer_paths'\u001b[0m \u001b[0;32min\u001b[0m \u001b[0mdata\u001b[0m\u001b[0;34m:\u001b[0m\u001b[0;34m\u001b[0m\u001b[0;34m\u001b[0m\u001b[0m\n\u001b[1;32m    675\u001b[0m                     \u001b[0m_put_buffers\u001b[0m\u001b[0;34m(\u001b[0m\u001b[0mstate\u001b[0m\u001b[0;34m,\u001b[0m \u001b[0mdata\u001b[0m\u001b[0;34m[\u001b[0m\u001b[0;34m'buffer_paths'\u001b[0m\u001b[0;34m]\u001b[0m\u001b[0;34m,\u001b[0m \u001b[0mmsg\u001b[0m\u001b[0;34m[\u001b[0m\u001b[0;34m'buffers'\u001b[0m\u001b[0;34m]\u001b[0m\u001b[0;34m)\u001b[0m\u001b[0;34m\u001b[0m\u001b[0;34m\u001b[0m\u001b[0m\n\u001b[0;32m--> 676\u001b[0;31m                 \u001b[0mself\u001b[0m\u001b[0;34m.\u001b[0m\u001b[0mset_state\u001b[0m\u001b[0;34m(\u001b[0m\u001b[0mstate\u001b[0m\u001b[0;34m)\u001b[0m\u001b[0;34m\u001b[0m\u001b[0;34m\u001b[0m\u001b[0m\n\u001b[0m\u001b[1;32m    677\u001b[0m \u001b[0;34m\u001b[0m\u001b[0m\n\u001b[1;32m    678\u001b[0m         \u001b[0;31m# Handle a state request.\u001b[0m\u001b[0;34m\u001b[0m\u001b[0;34m\u001b[0m\u001b[0;34m\u001b[0m\u001b[0m\n",
      "\u001b[0;32m~/.pyenv/versions/3.8.12/envs/lewagon/lib/python3.8/site-packages/ipywidgets/widgets/widget.py\u001b[0m in \u001b[0;36mset_state\u001b[0;34m(self, sync_data)\u001b[0m\n\u001b[1;32m    543\u001b[0m                     from_json = self.trait_metadata(name, 'from_json',\n\u001b[1;32m    544\u001b[0m                                                     self._trait_from_json)\n\u001b[0;32m--> 545\u001b[0;31m                     \u001b[0mself\u001b[0m\u001b[0;34m.\u001b[0m\u001b[0mset_trait\u001b[0m\u001b[0;34m(\u001b[0m\u001b[0mname\u001b[0m\u001b[0;34m,\u001b[0m \u001b[0mfrom_json\u001b[0m\u001b[0;34m(\u001b[0m\u001b[0msync_data\u001b[0m\u001b[0;34m[\u001b[0m\u001b[0mname\u001b[0m\u001b[0;34m]\u001b[0m\u001b[0;34m,\u001b[0m \u001b[0mself\u001b[0m\u001b[0;34m)\u001b[0m\u001b[0;34m)\u001b[0m\u001b[0;34m\u001b[0m\u001b[0;34m\u001b[0m\u001b[0m\n\u001b[0m\u001b[1;32m    546\u001b[0m \u001b[0;34m\u001b[0m\u001b[0m\n\u001b[1;32m    547\u001b[0m     \u001b[0;32mdef\u001b[0m \u001b[0msend\u001b[0m\u001b[0;34m(\u001b[0m\u001b[0mself\u001b[0m\u001b[0;34m,\u001b[0m \u001b[0mcontent\u001b[0m\u001b[0;34m,\u001b[0m \u001b[0mbuffers\u001b[0m\u001b[0;34m=\u001b[0m\u001b[0;32mNone\u001b[0m\u001b[0;34m)\u001b[0m\u001b[0;34m:\u001b[0m\u001b[0;34m\u001b[0m\u001b[0;34m\u001b[0m\u001b[0m\n",
      "\u001b[0;32m~/.pyenv/versions/3.8.12/lib/python3.8/contextlib.py\u001b[0m in \u001b[0;36m__exit__\u001b[0;34m(self, type, value, traceback)\u001b[0m\n\u001b[1;32m    118\u001b[0m         \u001b[0;32mif\u001b[0m \u001b[0mtype\u001b[0m \u001b[0;32mis\u001b[0m \u001b[0;32mNone\u001b[0m\u001b[0;34m:\u001b[0m\u001b[0;34m\u001b[0m\u001b[0;34m\u001b[0m\u001b[0m\n\u001b[1;32m    119\u001b[0m             \u001b[0;32mtry\u001b[0m\u001b[0;34m:\u001b[0m\u001b[0;34m\u001b[0m\u001b[0;34m\u001b[0m\u001b[0m\n\u001b[0;32m--> 120\u001b[0;31m                 \u001b[0mnext\u001b[0m\u001b[0;34m(\u001b[0m\u001b[0mself\u001b[0m\u001b[0;34m.\u001b[0m\u001b[0mgen\u001b[0m\u001b[0;34m)\u001b[0m\u001b[0;34m\u001b[0m\u001b[0;34m\u001b[0m\u001b[0m\n\u001b[0m\u001b[1;32m    121\u001b[0m             \u001b[0;32mexcept\u001b[0m \u001b[0mStopIteration\u001b[0m\u001b[0;34m:\u001b[0m\u001b[0;34m\u001b[0m\u001b[0;34m\u001b[0m\u001b[0m\n\u001b[1;32m    122\u001b[0m                 \u001b[0;32mreturn\u001b[0m \u001b[0;32mFalse\u001b[0m\u001b[0;34m\u001b[0m\u001b[0;34m\u001b[0m\u001b[0m\n",
      "\u001b[0;32m~/.pyenv/versions/3.8.12/envs/lewagon/lib/python3.8/site-packages/traitlets/traitlets.py\u001b[0m in \u001b[0;36mhold_trait_notifications\u001b[0;34m(self)\u001b[0m\n\u001b[1;32m   1214\u001b[0m                 \u001b[0;32mfor\u001b[0m \u001b[0mchanges\u001b[0m \u001b[0;32min\u001b[0m \u001b[0mcache\u001b[0m\u001b[0;34m.\u001b[0m\u001b[0mvalues\u001b[0m\u001b[0;34m(\u001b[0m\u001b[0;34m)\u001b[0m\u001b[0;34m:\u001b[0m\u001b[0;34m\u001b[0m\u001b[0;34m\u001b[0m\u001b[0m\n\u001b[1;32m   1215\u001b[0m                     \u001b[0;32mfor\u001b[0m \u001b[0mchange\u001b[0m \u001b[0;32min\u001b[0m \u001b[0mchanges\u001b[0m\u001b[0;34m:\u001b[0m\u001b[0;34m\u001b[0m\u001b[0;34m\u001b[0m\u001b[0m\n\u001b[0;32m-> 1216\u001b[0;31m                         \u001b[0mself\u001b[0m\u001b[0;34m.\u001b[0m\u001b[0mnotify_change\u001b[0m\u001b[0;34m(\u001b[0m\u001b[0mchange\u001b[0m\u001b[0;34m)\u001b[0m\u001b[0;34m\u001b[0m\u001b[0;34m\u001b[0m\u001b[0m\n\u001b[0m\u001b[1;32m   1217\u001b[0m \u001b[0;34m\u001b[0m\u001b[0m\n\u001b[1;32m   1218\u001b[0m     \u001b[0;32mdef\u001b[0m \u001b[0m_notify_trait\u001b[0m\u001b[0;34m(\u001b[0m\u001b[0mself\u001b[0m\u001b[0;34m,\u001b[0m \u001b[0mname\u001b[0m\u001b[0;34m,\u001b[0m \u001b[0mold_value\u001b[0m\u001b[0;34m,\u001b[0m \u001b[0mnew_value\u001b[0m\u001b[0;34m)\u001b[0m\u001b[0;34m:\u001b[0m\u001b[0;34m\u001b[0m\u001b[0;34m\u001b[0m\u001b[0m\n",
      "\u001b[0;32m~/.pyenv/versions/3.8.12/envs/lewagon/lib/python3.8/site-packages/ipywidgets/widgets/widget.py\u001b[0m in \u001b[0;36mnotify_change\u001b[0;34m(self, change)\u001b[0m\n\u001b[1;32m    604\u001b[0m                 \u001b[0;31m# Send new state to front-end\u001b[0m\u001b[0;34m\u001b[0m\u001b[0;34m\u001b[0m\u001b[0;34m\u001b[0m\u001b[0m\n\u001b[1;32m    605\u001b[0m                 \u001b[0mself\u001b[0m\u001b[0;34m.\u001b[0m\u001b[0msend_state\u001b[0m\u001b[0;34m(\u001b[0m\u001b[0mkey\u001b[0m\u001b[0;34m=\u001b[0m\u001b[0mname\u001b[0m\u001b[0;34m)\u001b[0m\u001b[0;34m\u001b[0m\u001b[0;34m\u001b[0m\u001b[0m\n\u001b[0;32m--> 606\u001b[0;31m         \u001b[0msuper\u001b[0m\u001b[0;34m(\u001b[0m\u001b[0mWidget\u001b[0m\u001b[0;34m,\u001b[0m \u001b[0mself\u001b[0m\u001b[0;34m)\u001b[0m\u001b[0;34m.\u001b[0m\u001b[0mnotify_change\u001b[0m\u001b[0;34m(\u001b[0m\u001b[0mchange\u001b[0m\u001b[0;34m)\u001b[0m\u001b[0;34m\u001b[0m\u001b[0;34m\u001b[0m\u001b[0m\n\u001b[0m\u001b[1;32m    607\u001b[0m \u001b[0;34m\u001b[0m\u001b[0m\n\u001b[1;32m    608\u001b[0m     \u001b[0;32mdef\u001b[0m \u001b[0m__repr__\u001b[0m\u001b[0;34m(\u001b[0m\u001b[0mself\u001b[0m\u001b[0;34m)\u001b[0m\u001b[0;34m:\u001b[0m\u001b[0;34m\u001b[0m\u001b[0;34m\u001b[0m\u001b[0m\n",
      "\u001b[0;32m~/.pyenv/versions/3.8.12/envs/lewagon/lib/python3.8/site-packages/traitlets/traitlets.py\u001b[0m in \u001b[0;36mnotify_change\u001b[0;34m(self, change)\u001b[0m\n\u001b[1;32m   1227\u001b[0m     \u001b[0;32mdef\u001b[0m \u001b[0mnotify_change\u001b[0m\u001b[0;34m(\u001b[0m\u001b[0mself\u001b[0m\u001b[0;34m,\u001b[0m \u001b[0mchange\u001b[0m\u001b[0;34m)\u001b[0m\u001b[0;34m:\u001b[0m\u001b[0;34m\u001b[0m\u001b[0;34m\u001b[0m\u001b[0m\n\u001b[1;32m   1228\u001b[0m         \u001b[0;34m\"\"\"Notify observers of a change event\"\"\"\u001b[0m\u001b[0;34m\u001b[0m\u001b[0;34m\u001b[0m\u001b[0m\n\u001b[0;32m-> 1229\u001b[0;31m         \u001b[0;32mreturn\u001b[0m \u001b[0mself\u001b[0m\u001b[0;34m.\u001b[0m\u001b[0m_notify_observers\u001b[0m\u001b[0;34m(\u001b[0m\u001b[0mchange\u001b[0m\u001b[0;34m)\u001b[0m\u001b[0;34m\u001b[0m\u001b[0;34m\u001b[0m\u001b[0m\n\u001b[0m\u001b[1;32m   1230\u001b[0m \u001b[0;34m\u001b[0m\u001b[0m\n\u001b[1;32m   1231\u001b[0m     \u001b[0;32mdef\u001b[0m \u001b[0m_notify_observers\u001b[0m\u001b[0;34m(\u001b[0m\u001b[0mself\u001b[0m\u001b[0;34m,\u001b[0m \u001b[0mevent\u001b[0m\u001b[0;34m)\u001b[0m\u001b[0;34m:\u001b[0m\u001b[0;34m\u001b[0m\u001b[0;34m\u001b[0m\u001b[0m\n",
      "\u001b[0;32m~/.pyenv/versions/3.8.12/envs/lewagon/lib/python3.8/site-packages/traitlets/traitlets.py\u001b[0m in \u001b[0;36m_notify_observers\u001b[0;34m(self, event)\u001b[0m\n\u001b[1;32m   1264\u001b[0m                 \u001b[0mc\u001b[0m \u001b[0;34m=\u001b[0m \u001b[0mgetattr\u001b[0m\u001b[0;34m(\u001b[0m\u001b[0mself\u001b[0m\u001b[0;34m,\u001b[0m \u001b[0mc\u001b[0m\u001b[0;34m.\u001b[0m\u001b[0mname\u001b[0m\u001b[0;34m)\u001b[0m\u001b[0;34m\u001b[0m\u001b[0;34m\u001b[0m\u001b[0m\n\u001b[1;32m   1265\u001b[0m \u001b[0;34m\u001b[0m\u001b[0m\n\u001b[0;32m-> 1266\u001b[0;31m             \u001b[0mc\u001b[0m\u001b[0;34m(\u001b[0m\u001b[0mevent\u001b[0m\u001b[0;34m)\u001b[0m\u001b[0;34m\u001b[0m\u001b[0;34m\u001b[0m\u001b[0m\n\u001b[0m\u001b[1;32m   1267\u001b[0m \u001b[0;34m\u001b[0m\u001b[0m\n\u001b[1;32m   1268\u001b[0m     \u001b[0;32mdef\u001b[0m \u001b[0m_add_notifiers\u001b[0m\u001b[0;34m(\u001b[0m\u001b[0mself\u001b[0m\u001b[0;34m,\u001b[0m \u001b[0mhandler\u001b[0m\u001b[0;34m,\u001b[0m \u001b[0mname\u001b[0m\u001b[0;34m,\u001b[0m \u001b[0mtype\u001b[0m\u001b[0;34m)\u001b[0m\u001b[0;34m:\u001b[0m\u001b[0;34m\u001b[0m\u001b[0;34m\u001b[0m\u001b[0m\n",
      "\u001b[0;32m~/.pyenv/versions/3.8.12/envs/lewagon/lib/python3.8/site-packages/geemap/geemap.py\u001b[0m in \u001b[0;36mlayers_btn_click\u001b[0;34m(change)\u001b[0m\n\u001b[1;32m   1096\u001b[0m                         \u001b[0mlayout\u001b[0m\u001b[0;34m=\u001b[0m\u001b[0mwidgets\u001b[0m\u001b[0;34m.\u001b[0m\u001b[0mLayout\u001b[0m\u001b[0;34m(\u001b[0m\u001b[0mheight\u001b[0m\u001b[0;34m=\u001b[0m\u001b[0;34m\"18px\"\u001b[0m\u001b[0;34m)\u001b[0m\u001b[0;34m,\u001b[0m\u001b[0;34m\u001b[0m\u001b[0;34m\u001b[0m\u001b[0m\n\u001b[1;32m   1097\u001b[0m                     )\n\u001b[0;32m-> 1098\u001b[0;31m                     \u001b[0mlayer_chk\u001b[0m\u001b[0;34m.\u001b[0m\u001b[0mlayout\u001b[0m\u001b[0;34m.\u001b[0m\u001b[0mwidth\u001b[0m \u001b[0;34m=\u001b[0m \u001b[0;34m\"25ex\"\u001b[0m\u001b[0;34m\u001b[0m\u001b[0;34m\u001b[0m\u001b[0m\n\u001b[0m\u001b[1;32m   1099\u001b[0m \u001b[0;34m\u001b[0m\u001b[0m\n\u001b[1;32m   1100\u001b[0m                     \u001b[0;32mif\u001b[0m \u001b[0mlayer\u001b[0m \u001b[0;32min\u001b[0m \u001b[0mself\u001b[0m\u001b[0;34m.\u001b[0m\u001b[0mgeojson_layers\u001b[0m\u001b[0;34m:\u001b[0m\u001b[0;34m\u001b[0m\u001b[0;34m\u001b[0m\u001b[0m\n",
      "\u001b[0;31mAttributeError\u001b[0m: 'MarkerCluster' object has no attribute 'opacity'"
     ]
    }
   ],
   "source": [
    "Map = geemap.Map()\n",
    "Map"
   ]
  },
  {
   "cell_type": "markdown",
   "metadata": {},
   "source": [
    "### Add data to the map"
   ]
  },
  {
   "cell_type": "code",
   "execution_count": 6,
   "metadata": {},
   "outputs": [],
   "source": [
    "landsat7 = ee.Image('LE7_TOA_5YEAR/1999_2003') \\\n",
    "    .select([0, 1, 2, 3, 4, 6])\n",
    "landsat_vis = {\n",
    "    'bands': ['B4', 'B3', 'B2'], \n",
    "    'gamma': 1.7\n",
    "}\n",
    "Map.addLayer(landsat7, landsat_vis, \"LE7_TOA_5YEAR/1999_2003\")\n",
    "\n",
    "Map.set_plot_options(add_marker_cluster=True)"
   ]
  },
  {
   "cell_type": "markdown",
   "metadata": {},
   "source": [
    "### Activate the plotting tool\n",
    "\n",
    "Tick the `Plotting` checkbox and click the mouse on the map to start displaying charts."
   ]
  },
  {
   "cell_type": "markdown",
   "metadata": {},
   "source": [
    "### Export pixel values to shapefile/csv"
   ]
  },
  {
   "cell_type": "code",
   "execution_count": null,
   "metadata": {},
   "outputs": [],
   "source": [
    "out_dir = os.path.expanduser('~/Downloads')\n",
    "# out_csv = os.path.join(out_dir, 'points.csv')\n",
    "out_shp = os.path.join(out_dir, 'points.shp')"
   ]
  },
  {
   "cell_type": "code",
   "execution_count": null,
   "metadata": {},
   "outputs": [],
   "source": [
    "Map.extract_values_to_points(out_shp)"
   ]
  },
  {
   "cell_type": "markdown",
   "metadata": {},
   "source": [
    "## Interactive Region Reduction"
   ]
  },
  {
   "cell_type": "markdown",
   "metadata": {},
   "source": [
    "### Import libraries"
   ]
  },
  {
   "cell_type": "code",
   "execution_count": null,
   "metadata": {},
   "outputs": [],
   "source": [
    "import geemap.colormaps as cm"
   ]
  },
  {
   "cell_type": "markdown",
   "metadata": {},
   "source": [
    "### Create an interactive map"
   ]
  },
  {
   "cell_type": "code",
   "execution_count": null,
   "metadata": {},
   "outputs": [],
   "source": [
    "m = geemap.Map()"
   ]
  },
  {
   "cell_type": "markdown",
   "metadata": {},
   "source": [
    "### Add add to the map"
   ]
  },
  {
   "cell_type": "code",
   "execution_count": null,
   "metadata": {},
   "outputs": [],
   "source": [
    "collection = ee.ImageCollection('MODIS/006/MOD13A2') \\\n",
    "    .filterDate('2015-01-01', '2019-12-31') \\\n",
    "    .select('NDVI')\n",
    "\n",
    "# Convert the image collection to an image.\n",
    "image = collection.toBands()\n",
    "\n",
    "palette = cm.palettes.ndvi\n",
    "\n",
    "ndvi_vis = {\n",
    "  'min': 0.0,\n",
    "  'max': 9000.0,\n",
    "  'palette': palette\n",
    "}\n",
    "\n",
    "m.addLayer(image, {}, 'MODIS NDVI Time-series')\n",
    "m.addLayer(image.select(0), ndvi_vis, 'MODIS NDVI VIS')\n",
    "\n",
    "m"
   ]
  },
  {
   "cell_type": "markdown",
   "metadata": {},
   "source": [
    "### Set reducer"
   ]
  },
  {
   "cell_type": "code",
   "execution_count": null,
   "metadata": {},
   "outputs": [],
   "source": [
    "m.set_plot_options(add_marker_cluster=True, marker=None)\n",
    "m.roi_reducer = ee.Reducer.mean()"
   ]
  },
  {
   "cell_type": "markdown",
   "metadata": {},
   "source": [
    "### Export data"
   ]
  },
  {
   "cell_type": "code",
   "execution_count": null,
   "metadata": {},
   "outputs": [],
   "source": [
    "out_dir = os.path.expanduser('~/Downloads')\n",
    "# out_csv = os.path.join(out_dir, 'points.csv')\n",
    "out_shp = os.path.join(out_dir, 'ndvi.shp')\n",
    "m.extract_values_to_points(out_shp)"
   ]
  },
  {
   "cell_type": "markdown",
   "metadata": {},
   "source": [
    "## Creating training samples"
   ]
  },
  {
   "cell_type": "code",
   "execution_count": null,
   "metadata": {},
   "outputs": [],
   "source": [
    "import geemap"
   ]
  },
  {
   "cell_type": "code",
   "execution_count": null,
   "metadata": {},
   "outputs": [],
   "source": [
    "geemap.show_youtube(\"https://youtu.be/VWh5PxXPZw0\")"
   ]
  },
  {
   "cell_type": "code",
   "execution_count": null,
   "metadata": {},
   "outputs": [],
   "source": [
    "Map = geemap.Map()\n",
    "Map"
   ]
  }
 ],
 "metadata": {
  "_draft": {
   "nbviewer_url": "https://gist.github.com/3ebde541f34a1757035a67dee34939d0"
  },
  "gist": {
   "data": {
    "description": "extract values to points",
    "public": true
   },
   "id": "3ebde541f34a1757035a67dee34939d0"
  },
  "hide_input": false,
  "kernelspec": {
   "display_name": "Python 3 (ipykernel)",
   "language": "python",
   "name": "python3"
  },
  "language_info": {
   "codemirror_mode": {
    "name": "ipython",
    "version": 3
   },
   "file_extension": ".py",
   "mimetype": "text/x-python",
   "name": "python",
   "nbconvert_exporter": "python",
   "pygments_lexer": "ipython3",
   "version": "3.8.12"
  },
  "toc": {
   "base_numbering": 1,
   "nav_menu": {},
   "number_sections": true,
   "sideBar": true,
   "skip_h1_title": true,
   "title_cell": "Table of Contents",
   "title_sidebar": "Table of Contents",
   "toc_cell": false,
   "toc_position": {},
   "toc_section_display": true,
   "toc_window_display": false
  },
  "varInspector": {
   "cols": {
    "lenName": 16,
    "lenType": 16,
    "lenVar": 40
   },
   "kernels_config": {
    "python": {
     "delete_cmd_postfix": "",
     "delete_cmd_prefix": "del ",
     "library": "var_list.py",
     "varRefreshCmd": "print(var_dic_list())"
    },
    "r": {
     "delete_cmd_postfix": ") ",
     "delete_cmd_prefix": "rm(",
     "library": "var_list.r",
     "varRefreshCmd": "cat(var_dic_list()) "
    }
   },
   "types_to_exclude": [
    "module",
    "function",
    "builtin_function_or_method",
    "instance",
    "_Feature"
   ],
   "window_display": false
  }
 },
 "nbformat": 4,
 "nbformat_minor": 4
}
